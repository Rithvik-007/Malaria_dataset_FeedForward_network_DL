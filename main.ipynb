{
 "cells": [
  {
   "cell_type": "markdown",
   "id": "4ca93a25",
   "metadata": {},
   "source": [
    "# Malaria Cell Classification with Feed-Forward Neural Networks"
   ]
  },
  {
   "cell_type": "markdown",
   "id": "e00efb88",
   "metadata": {},
   "source": [
    "## 1. Setup and Imports\n",
    "Initialize libraries, set device (GPU/CPU), fix random seed for reproducibility."
   ]
  },
  {
   "cell_type": "code",
   "execution_count": 1,
   "id": "2c0b160a",
   "metadata": {},
   "outputs": [],
   "source": [
    "\n",
    "import os, json, math, random, hashlib\n",
    "from pathlib import Path\n",
    "from itertools import product\n",
    "import numpy as np\n",
    "import torch\n",
    "from torch import nn\n",
    "from torch.utils.data import DataLoader\n",
    "from torchvision.datasets import ImageFolder\n",
    "from torchvision import transforms\n",
    "import matplotlib.pyplot as plt\n",
    "from sklearn.metrics import confusion_matrix, classification_report\n",
    "from tqdm import tqdm"
   ]
  },
  {
   "cell_type": "code",
   "execution_count": 5,
   "id": "842e475e",
   "metadata": {},
   "outputs": [
    {
     "name": "stdout",
     "output_type": "stream",
     "text": [
      "✅ Clean configuration loaded!\n",
      "📊 Batch size: 512 | Epochs: 20\n",
      "🧠 Recommended architecture: [256, 128]\n",
      "⚡ Single model training (no grid search)\n"
     ]
    }
   ],
   "source": [
    "# ✅ CLEAN CONFIGURATION - No duplicates!\n",
    "\n",
    "IMG_SIZE = 64\n",
    "BATCH_SIZE = 512  # Optimized for speed\n",
    "EPOCHS_BASELINE = 20  # Balanced speed/performance\n",
    "EPOCHS_L2 = 20\n",
    "EPOCHS_DROPOUT = 20\n",
    "EPOCHS_ES_MAX = 40\n",
    "ES_PATIENCE_SWEEP = [5, 7, 10]\n",
    "\n",
    "# Single recommended architecture (no grid search for speed)\n",
    "RECOMMENDED_ARCHITECTURE = [256, 128]  # 2 hidden layers\n",
    "RECOMMENDED_LR = 1e-3  # Single learning rate\n",
    "\n",
    "L2_WEIGHTS = [1e-5, 3e-5, 1e-4, 3e-4, 1e-3]\n",
    "DROPOUT_PS = [0.1, 0.2, 0.3, 0.4]\n",
    "NUM_WORKERS = min(8, os.cpu_count() or 2)\n",
    "USE_NORMALIZE = False\n",
    "NORM_MEAN = [0.5, 0.5, 0.5]\n",
    "NORM_STD = [0.5, 0.5, 0.5]\n",
    "\n",
    "print(\"✅ Clean configuration loaded!\")\n",
    "print(f\"📊 Batch size: {BATCH_SIZE} | Epochs: {EPOCHS_BASELINE}\")\n",
    "print(f\"🧠 Recommended architecture: {RECOMMENDED_ARCHITECTURE}\")\n",
    "print(f\"⚡ Single model training (no grid search)\")\n"
   ]
  },
  {
   "cell_type": "markdown",
   "id": "0999cc4d",
   "metadata": {},
   "source": [
    "## 2. Data Loading and Preprocessing\n",
    "Load malaria dataset (resized 64×64 RGB images), create training/validation/test splits (split_dataset.py), apply transforms, and prepare data loaders.\n"
   ]
  },
  {
   "cell_type": "code",
   "execution_count": 6,
   "id": "3cb2f97d",
   "metadata": {},
   "outputs": [
    {
     "data": {
      "text/plain": [
       "device(type='cuda')"
      ]
     },
     "execution_count": 6,
     "metadata": {},
     "output_type": "execute_result"
    }
   ],
   "source": [
    "\n",
    "# ---------- Paths (EDIT if you used different folders) ----------\n",
    "DATA_RESIZED = r\"D:\\GMU Courses\\Sem-3\\DL\\Assignments\\Malaria_dataset\\malaria_resized\"\n",
    "OUT_DIR      = r\"D:\\GMU Courses\\Sem-3\\DL\\Assignments\\Malaria_dataset\\outputs_ff\"\n",
    "\n",
    "os.makedirs(OUT_DIR, exist_ok=True)\n",
    "\n",
    "# ---------- Reproducibility ----------\n",
    "def set_seed(seed=42):\n",
    "    random.seed(seed)\n",
    "    np.random.seed(seed)\n",
    "    torch.manual_seed(seed)\n",
    "    torch.cuda.manual_seed_all(seed)\n",
    "set_seed(42)\n",
    "\n",
    "device = torch.device(\"cuda\" if torch.cuda.is_available() else \"cpu\")\n",
    "device\n"
   ]
  },
  {
   "cell_type": "markdown",
   "id": "4c3b17cf",
   "metadata": {},
   "source": [
    "### ignore the below cell\n"
   ]
  },
  {
   "cell_type": "code",
   "execution_count": 4,
   "id": "ac3e4a8d",
   "metadata": {},
   "outputs": [],
   "source": [
    "# ======= EDIT ONLY THESE IF YOU WANT (structure stays unchanged) =======\n",
    "\n",
    "# IMG_SIZE = 64\n",
    "\n",
    "# Batch size: 512 is safe on 6–8GB 3060; try 1024 if you have 12GB VRAM\n",
    "# BATCH_SIZE = 512\n",
    "\n",
    "# Epoch budgets (reasonable for speed/accuracy on 3060)\n",
    "# EPOCHS_BASELINE = 40\n",
    "# EPOCHS_L2       = 40\n",
    "# EPOCHS_DROPOUT  = 40\n",
    "# EPOCHS_ES_MAX   = 80\n",
    "# ES_PATIENCE_SWEEP = [5, 7, 10]   # we’ll search these; default patience target ~7\n",
    "\n",
    "# Search spaces (compact but effective)\n",
    "# SEARCH_BASELINE = {\n",
    "#     \"hidden_layers\": [[1024, 512], [1024, 512, 256]],\n",
    "#     \"activation\":    [\"relu\"],           # can try \"leaky\" later\n",
    "#     \"lr\":            [1e-3, 3e-4],\n",
    "# }\n",
    "\n",
    "# L2_WEIGHTS = [1e-5, 3e-5, 1e-4, 3e-4, 1e-3]\n",
    "# DROPOUT_PS = [0.1, 0.2, 0.3, 0.4]\n",
    "\n",
    "# Data loader workers — keep fixed; changing this doesn't change folders\n",
    "# NUM_WORKERS = min(8, os.cpu_count() or 2)\n",
    "\n",
    "# Optional: normalization toggle (keeping simple 0..1 works fine for MLP)\n",
    "# USE_NORMALIZE = False\n",
    "# NORM_MEAN = [0.5, 0.5, 0.5]\n",
    "# NORM_STD  = [0.5, 0.5, 0.5]\n"
   ]
  },
  {
   "cell_type": "code",
   "execution_count": 9,
   "id": "c54da2fa",
   "metadata": {},
   "outputs": [
    {
     "name": "stdout",
     "output_type": "stream",
     "text": [
      "✅ Fixed training function loaded!\n"
     ]
    }
   ],
   "source": [
    "# 🔧 FIXED TRAINING FUNCTION - Use this instead of the broken one\n",
    "\n",
    "def train_model_fixed(\n",
    "    model, train_loader, valid_loader,\n",
    "    lr=1e-3, weight_decay=0.0,\n",
    "    max_epochs=40,\n",
    "    early_stopping=False, patience=5,\n",
    "):\n",
    "    model.to(device)\n",
    "    criterion = nn.BCEWithLogitsLoss()\n",
    "    optimizer = torch.optim.Adam(model.parameters(), lr=lr, weight_decay=weight_decay)\n",
    "\n",
    "    hist = {\"train_loss\":[], \"valid_loss\":[], \"train_acc\":[], \"valid_acc\":[]}\n",
    "    best = {\"epoch\":-1, \"val_acc\":-1, \"state_dict\":None}\n",
    "\n",
    "    no_improve = 0\n",
    "    \n",
    "    # Print header for training progress\n",
    "    print(f\"\\n{'='*80}\", flush=True)\n",
    "    print(f\"🚀 STARTING TRAINING - {max_epochs} epochs | LR: {lr} | Batch Size: {train_loader.batch_size}\", flush=True)\n",
    "    print(f\"{'='*80}\", flush=True)\n",
    "    print(f\"{'Epoch':<6} {'Train Loss':<12} {'Train Acc':<10} {'Valid Loss':<12} {'Valid Acc':<10} {'Best':<10}\", flush=True)\n",
    "    print(\"-\" * 80, flush=True)\n",
    "    \n",
    "    for epoch in range(1, max_epochs+1):\n",
    "        tr_loss, tr_acc = run_epoch(model, train_loader, criterion, optimizer, show_progress=True, epoch=epoch, phase=\"train\")\n",
    "        va_loss, va_acc = run_epoch(model, valid_loader, criterion, optimizer=None, show_progress=True, epoch=epoch, phase=\"valid\")\n",
    "        hist[\"train_loss\"].append(tr_loss); hist[\"valid_loss\"].append(va_loss)\n",
    "        hist[\"train_acc\"].append(tr_acc);   hist[\"valid_acc\"].append(va_acc)\n",
    "        \n",
    "        # FIXED: Real-time progress display with proper early stopping logic\n",
    "        best_marker = \"\"\n",
    "        if va_acc > best[\"val_acc\"]:\n",
    "            best.update(epoch=epoch, val_acc=va_acc, state_dict={k:v.cpu() for k,v in model.state_dict().items()})\n",
    "            best_marker = \"★ BEST\"\n",
    "            no_improve = 0  # Reset counter when we find improvement\n",
    "        else:\n",
    "            no_improve += 1  # Increment only when no improvement\n",
    "        \n",
    "        print(f\"{epoch:<6} {tr_loss:<12.4f} {tr_acc:<10.4f} {va_loss:<12.4f} {va_acc:<10.4f} {best_marker:<10}\", flush=True)\n",
    "        \n",
    "        # Early stopping logic\n",
    "        if early_stopping and no_improve >= patience:\n",
    "            print(f\"\\nEarly stopping at epoch {epoch} (no improvement for {patience} epochs)\", flush=True)\n",
    "            break\n",
    "    \n",
    "    print(f\"\\n{'='*80}\", flush=True)\n",
    "    print(f\"Training completed! Best validation accuracy: {best['val_acc']:.4f} at epoch {best['epoch']}\", flush=True)\n",
    "    print(f\"{'='*80}\\n\", flush=True)\n",
    "    \n",
    "    if best[\"state_dict\"] is not None:\n",
    "        model.load_state_dict(best[\"state_dict\"])\n",
    "    return model, hist, best\n",
    "\n",
    "print(\"✅ Fixed training function loaded!\")\n"
   ]
  },
  {
   "cell_type": "markdown",
   "id": "d54e8124",
   "metadata": {},
   "source": [
    "Data Loaders"
   ]
  },
  {
   "cell_type": "code",
   "execution_count": 10,
   "id": "93f0d79e",
   "metadata": {},
   "outputs": [
    {
     "data": {
      "text/plain": [
       "{'Parasitized': 0, 'Uninfected': 1}"
      ]
     },
     "execution_count": 10,
     "metadata": {},
     "output_type": "execute_result"
    }
   ],
   "source": [
    "tf_list = [transforms.ToTensor()]\n",
    "if USE_NORMALIZE:\n",
    "    tf_list.append(transforms.Normalize(mean=NORM_MEAN, std=NORM_STD))\n",
    "base_tf = transforms.Compose(tf_list)\n",
    "\n",
    "train_ds = ImageFolder(os.path.join(DATA_RESIZED, \"train\"), transform=base_tf)\n",
    "valid_ds = ImageFolder(os.path.join(DATA_RESIZED, \"valid\"), transform=base_tf)\n",
    "test_ds  = ImageFolder(os.path.join(DATA_RESIZED, \"test\"),  transform=base_tf)\n",
    "\n",
    "train_loader = DataLoader(train_ds, batch_size=BATCH_SIZE, shuffle=True,\n",
    "                          num_workers=NUM_WORKERS, pin_memory=True)\n",
    "valid_loader = DataLoader(valid_ds, batch_size=BATCH_SIZE, shuffle=False,\n",
    "                          num_workers=NUM_WORKERS, pin_memory=True)\n",
    "test_loader  = DataLoader(test_ds,  batch_size=BATCH_SIZE, shuffle=False,\n",
    "                          num_workers=NUM_WORKERS, pin_memory=True)\n",
    "\n",
    "train_ds.class_to_idx\n"
   ]
  },
  {
   "cell_type": "code",
   "execution_count": 8,
   "id": "ae5d518d",
   "metadata": {},
   "outputs": [],
   "source": [
    "INPUT_DIM = IMG_SIZE * IMG_SIZE * 3  # 64*64*3 = 12288\n",
    "\n",
    "class FFClassifier(nn.Module):\n",
    "    def __init__(self, hidden_layers=[512, 256], activation=\"relu\", dropout=0.0):\n",
    "        super().__init__()\n",
    "        if activation.lower() == \"relu\":\n",
    "            Act = nn.ReLU\n",
    "        elif activation.lower() in (\"leaky\", \"leakyrelu\"):\n",
    "            Act = lambda: nn.LeakyReLU(negative_slope=0.1)\n",
    "        else:\n",
    "            raise ValueError(\"activation must be 'relu' or 'leaky'\")\n",
    "\n",
    "        layers = []\n",
    "        in_dim = INPUT_DIM\n",
    "        for h in hidden_layers:\n",
    "            layers += [nn.Linear(in_dim, h), Act()]\n",
    "            if dropout > 0: layers += [nn.Dropout(dropout)]\n",
    "            in_dim = h\n",
    "        layers += [nn.Linear(in_dim, 1)]  # binary logit\n",
    "        self.net = nn.Sequential(*layers)\n",
    "\n",
    "    def forward(self, x):\n",
    "        x = torch.flatten(x, start_dim=1)  # [B, 3, 64, 64] -> [B, 12288]\n",
    "        return self.net(x).squeeze(1)\n"
   ]
  },
  {
   "cell_type": "markdown",
   "id": "0912c01d",
   "metadata": {},
   "source": [
    "## 4. Training and Evaluation Utilities\n",
    "\n",
    "### 5. Baseline Model Training\n",
    "Train the fixed MLP. Record training/validation curves and metrics."
   ]
  },
  {
   "cell_type": "code",
   "execution_count": 8,
   "id": "df6dfd43",
   "metadata": {},
   "outputs": [
    {
     "name": "stdout",
     "output_type": "stream",
     "text": [
      "🚀 Starting FAST training with batch size 512\n",
      "\n",
      "================================================================================\n",
      "🚀 STARTING TRAINING - 20 epochs | LR: 0.001 | Batch Size: 512\n",
      "================================================================================\n",
      "Epoch  Train Loss   Train Acc  Valid Loss   Valid Acc  Best      \n",
      "--------------------------------------------------------------------------------\n"
     ]
    },
    {
     "name": "stderr",
     "output_type": "stream",
     "text": [
      "                                                                                         "
     ]
    },
    {
     "name": "stdout",
     "output_type": "stream",
     "text": [
      "1      0.7312       0.5586     0.6628       0.5959     ★ BEST    \n"
     ]
    },
    {
     "name": "stderr",
     "output_type": "stream",
     "text": [
      "                                                                                         "
     ]
    },
    {
     "name": "stdout",
     "output_type": "stream",
     "text": [
      "2      0.6574       0.6079     0.6426       0.6279     ★ BEST    \n"
     ]
    },
    {
     "name": "stderr",
     "output_type": "stream",
     "text": [
      "                                                                                         "
     ]
    },
    {
     "name": "stdout",
     "output_type": "stream",
     "text": [
      "3      0.6362       0.6329     0.6220       0.6489     ★ BEST    \n"
     ]
    },
    {
     "name": "stderr",
     "output_type": "stream",
     "text": [
      "                                                                                         "
     ]
    },
    {
     "name": "stdout",
     "output_type": "stream",
     "text": [
      "4      0.6186       0.6556     0.6078       0.6695     ★ BEST    \n"
     ]
    },
    {
     "name": "stderr",
     "output_type": "stream",
     "text": [
      "                                                                                         "
     ]
    },
    {
     "name": "stdout",
     "output_type": "stream",
     "text": [
      "5      0.6367       0.6360     0.6264       0.6424               \n"
     ]
    },
    {
     "name": "stderr",
     "output_type": "stream",
     "text": [
      "                                                                                         "
     ]
    },
    {
     "name": "stdout",
     "output_type": "stream",
     "text": [
      "6      0.6119       0.6659     0.6026       0.6695               \n"
     ]
    },
    {
     "name": "stderr",
     "output_type": "stream",
     "text": [
      "                                                                                         "
     ]
    },
    {
     "name": "stdout",
     "output_type": "stream",
     "text": [
      "7      0.5974       0.6777     0.5965       0.6765     ★ BEST    \n"
     ]
    },
    {
     "name": "stderr",
     "output_type": "stream",
     "text": [
      "                                                                                         "
     ]
    },
    {
     "name": "stdout",
     "output_type": "stream",
     "text": [
      "8      0.5869       0.6873     0.5935       0.6813     ★ BEST    \n"
     ]
    },
    {
     "name": "stderr",
     "output_type": "stream",
     "text": [
      "                                                                                         "
     ]
    },
    {
     "name": "stdout",
     "output_type": "stream",
     "text": [
      "9      0.5959       0.6783     0.5914       0.6828     ★ BEST    \n"
     ]
    },
    {
     "name": "stderr",
     "output_type": "stream",
     "text": [
      "                                                                                          "
     ]
    },
    {
     "name": "stdout",
     "output_type": "stream",
     "text": [
      "10     0.5827       0.6889     0.5943       0.6813               \n"
     ]
    },
    {
     "name": "stderr",
     "output_type": "stream",
     "text": [
      "                                                                                          "
     ]
    },
    {
     "name": "stdout",
     "output_type": "stream",
     "text": [
      "11     0.5852       0.6854     0.6177       0.6506               \n"
     ]
    },
    {
     "name": "stderr",
     "output_type": "stream",
     "text": [
      "                                                                                          "
     ]
    },
    {
     "name": "stdout",
     "output_type": "stream",
     "text": [
      "12     0.5823       0.6893     0.5840       0.6840     ★ BEST    \n"
     ]
    },
    {
     "name": "stderr",
     "output_type": "stream",
     "text": [
      "                                                                                          "
     ]
    },
    {
     "name": "stdout",
     "output_type": "stream",
     "text": [
      "13     0.5707       0.6989     0.5843       0.6869     ★ BEST    \n"
     ]
    },
    {
     "name": "stderr",
     "output_type": "stream",
     "text": [
      "                                                                                          "
     ]
    },
    {
     "name": "stdout",
     "output_type": "stream",
     "text": [
      "14     0.5756       0.6956     0.5778       0.6961     ★ BEST    \n"
     ]
    },
    {
     "name": "stderr",
     "output_type": "stream",
     "text": [
      "                                                                                          "
     ]
    },
    {
     "name": "stdout",
     "output_type": "stream",
     "text": [
      "15     0.5681       0.7040     0.5811       0.6888               \n"
     ]
    },
    {
     "name": "stderr",
     "output_type": "stream",
     "text": [
      "                                                                                          "
     ]
    },
    {
     "name": "stdout",
     "output_type": "stream",
     "text": [
      "16     0.5694       0.7036     0.5751       0.6886               \n"
     ]
    },
    {
     "name": "stderr",
     "output_type": "stream",
     "text": [
      "                                                                                          "
     ]
    },
    {
     "name": "stdout",
     "output_type": "stream",
     "text": [
      "17     0.5560       0.7113     0.5716       0.7034     ★ BEST    \n"
     ]
    },
    {
     "name": "stderr",
     "output_type": "stream",
     "text": [
      "                                                                                          "
     ]
    },
    {
     "name": "stdout",
     "output_type": "stream",
     "text": [
      "18     0.5611       0.7087     0.5685       0.7012               \n"
     ]
    },
    {
     "name": "stderr",
     "output_type": "stream",
     "text": [
      "                                                                                          "
     ]
    },
    {
     "name": "stdout",
     "output_type": "stream",
     "text": [
      "19     0.5532       0.7141     0.5841       0.6867               \n"
     ]
    },
    {
     "name": "stderr",
     "output_type": "stream",
     "text": [
      "                                                                                          "
     ]
    },
    {
     "name": "stdout",
     "output_type": "stream",
     "text": [
      "20     0.5658       0.7042     0.5882       0.6845               \n",
      "\n",
      "================================================================================\n",
      "Training completed! Best validation accuracy: 0.7034 at epoch 17\n",
      "================================================================================\n",
      "\n"
     ]
    },
    {
     "name": "stderr",
     "output_type": "stream",
     "text": [
      "\r"
     ]
    },
    {
     "name": "stdout",
     "output_type": "stream",
     "text": [
      "\n",
      "🎉 FAST TRAINING COMPLETE!\n",
      "📈 Best validation accuracy: 0.7034\n",
      "🎯 Final validation accuracy: 0.7034\n"
     ]
    }
   ],
   "source": [
    "# 🚀 FAST TRAINING - Complete working version!\n",
    "\n",
    "# Helper functions (included here to avoid dependency issues)\n",
    "def accuracy_from_logits(logits, y_true):\n",
    "    preds = (torch.sigmoid(logits) >= 0.5).long()\n",
    "    return (preds.cpu() == y_true.cpu().long()).float().mean().item()\n",
    "\n",
    "def run_epoch(model, loader, criterion, optimizer=None, show_progress=False, epoch=None, phase=\"train\"):\n",
    "    training = optimizer is not None\n",
    "    model.train() if training else model.eval()\n",
    "    total_loss, total_acc, total_n = 0.0, 0.0, 0\n",
    "\n",
    "    iterator = loader\n",
    "    if show_progress:\n",
    "        desc = f\"Epoch {epoch} [{phase}]\"\n",
    "        iterator = tqdm(loader, total=len(loader), desc=desc, leave=False, mininterval=0.3)\n",
    "\n",
    "    with torch.set_grad_enabled(training):\n",
    "        for x, y in iterator:\n",
    "            x, y = x.to(device, non_blocking=True), y.float().to(device, non_blocking=True)\n",
    "            logits = model(x)\n",
    "            loss = criterion(logits, y)\n",
    "            if training:\n",
    "                optimizer.zero_grad(set_to_none=True)\n",
    "                loss.backward()\n",
    "                optimizer.step()\n",
    "            bs = y.size(0)\n",
    "            total_loss += loss.item() * bs\n",
    "            batch_acc = accuracy_from_logits(logits, y)\n",
    "            total_acc += batch_acc * bs\n",
    "            total_n += bs\n",
    "\n",
    "            if show_progress:\n",
    "                running_loss = total_loss / max(total_n, 1)\n",
    "                running_acc = total_acc / max(total_n, 1)\n",
    "                iterator.set_postfix({\"loss\": f\"{running_loss:.4f}\", \"acc\": f\"{running_acc:.4f}\"})\n",
    "\n",
    "    return total_loss/total_n, total_acc/total_n\n",
    "\n",
    "@torch.no_grad()\n",
    "def evaluate_on_loader(model, loader):\n",
    "    model.eval().to(device)\n",
    "    all_logits, all_y = [], []\n",
    "    for x, y in loader:\n",
    "        x = x.to(device)\n",
    "        logits = model(x)\n",
    "        all_logits.append(torch.sigmoid(logits).cpu())\n",
    "        all_y.append(y)\n",
    "    probs = torch.cat(all_logits).numpy()\n",
    "    y_true = torch.cat(all_y).numpy()\n",
    "    y_pred = (probs >= 0.5).astype(int)\n",
    "    cm = confusion_matrix(y_true, y_pred)\n",
    "    report = classification_report(y_true, y_pred, target_names=[\"Parasitized\",\"Uninfected\"],\n",
    "                                  digits=4, output_dict=True)\n",
    "    return probs, y_true, y_pred, cm, report\n",
    "\n",
    "# Update data loaders with new batch size\n",
    "train_loader_fast = DataLoader(train_ds, batch_size=BATCH_SIZE, shuffle=True,\n",
    "                               num_workers=NUM_WORKERS, pin_memory=True)\n",
    "valid_loader_fast = DataLoader(valid_ds, batch_size=BATCH_SIZE, shuffle=False,\n",
    "                               num_workers=NUM_WORKERS, pin_memory=True)\n",
    "\n",
    "print(f\"🚀 Starting FAST training with batch size {BATCH_SIZE}\")\n",
    "\n",
    "# Train single recommended model (no grid search)\n",
    "model_fast = FFClassifier(hidden_layers=RECOMMENDED_ARCHITECTURE, activation=\"relu\", dropout=0.0)\n",
    "model_fast, hist_fast, best_fast = train_model_fixed(\n",
    "    model_fast, train_loader_fast, valid_loader_fast, \n",
    "    lr=RECOMMENDED_LR, weight_decay=0.0, max_epochs=EPOCHS_BASELINE, early_stopping=False\n",
    ")\n",
    "\n",
    "print(f\"\\n🎉 FAST TRAINING COMPLETE!\")\n",
    "print(f\"📈 Best validation accuracy: {best_fast['val_acc']:.4f}\")\n",
    "\n",
    "# Quick evaluation\n",
    "_, _, _, cm_fast, report_fast = evaluate_on_loader(model_fast, valid_loader_fast)\n",
    "print(f\"🎯 Final validation accuracy: {report_fast['accuracy']:.4f}\")\n"
   ]
  },
  {
   "cell_type": "markdown",
   "id": "d5ec0c85",
   "metadata": {},
   "source": [
    "## 6) L2 Regularization (Weight Decay)\n",
    "Retrain the **same** MLP while adding L2 (weight decay). Tune the L2 strength and plot curves."
   ]
  },
  {
   "cell_type": "code",
   "execution_count": 10,
   "id": "1491fa52",
   "metadata": {},
   "outputs": [
    {
     "name": "stdout",
     "output_type": "stream",
     "text": [
      "🧪 Testing L2 regularization with different weights...\n",
      "🔧 Training with L2 regularization (weight_decay=1e-05)\n",
      "\n",
      "================================================================================\n",
      "🚀 STARTING TRAINING - 20 epochs | LR: 0.001 | Batch Size: 512\n",
      "================================================================================\n",
      "Epoch  Train Loss   Train Acc  Valid Loss   Valid Acc  Best      \n",
      "--------------------------------------------------------------------------------\n"
     ]
    },
    {
     "name": "stderr",
     "output_type": "stream",
     "text": [
      "                                                                                         "
     ]
    },
    {
     "name": "stdout",
     "output_type": "stream",
     "text": [
      "1      0.7263       0.5452     0.6616       0.6102     ★ BEST    \n"
     ]
    },
    {
     "name": "stderr",
     "output_type": "stream",
     "text": [
      "                                                                                         "
     ]
    },
    {
     "name": "stdout",
     "output_type": "stream",
     "text": [
      "2      0.6506       0.6213     0.6397       0.6279     ★ BEST    \n"
     ]
    },
    {
     "name": "stderr",
     "output_type": "stream",
     "text": [
      "                                                                                         "
     ]
    },
    {
     "name": "stdout",
     "output_type": "stream",
     "text": [
      "3      0.6294       0.6427     0.6618       0.5967               \n"
     ]
    },
    {
     "name": "stderr",
     "output_type": "stream",
     "text": [
      "                                                                                         "
     ]
    },
    {
     "name": "stdout",
     "output_type": "stream",
     "text": [
      "4      0.6138       0.6577     0.6065       0.6736     ★ BEST    \n"
     ]
    },
    {
     "name": "stderr",
     "output_type": "stream",
     "text": [
      "                                                                                         "
     ]
    },
    {
     "name": "stdout",
     "output_type": "stream",
     "text": [
      "5      0.6057       0.6721     0.6013       0.6722               \n"
     ]
    },
    {
     "name": "stderr",
     "output_type": "stream",
     "text": [
      "                                                                                         "
     ]
    },
    {
     "name": "stdout",
     "output_type": "stream",
     "text": [
      "6      0.6115       0.6657     0.6293       0.6426               \n"
     ]
    },
    {
     "name": "stderr",
     "output_type": "stream",
     "text": [
      "                                                                                         "
     ]
    },
    {
     "name": "stdout",
     "output_type": "stream",
     "text": [
      "7      0.5902       0.6853     0.6064       0.6680               \n"
     ]
    },
    {
     "name": "stderr",
     "output_type": "stream",
     "text": [
      "                                                                                         "
     ]
    },
    {
     "name": "stdout",
     "output_type": "stream",
     "text": [
      "8      0.5878       0.6885     0.5938       0.6852     ★ BEST    \n"
     ]
    },
    {
     "name": "stderr",
     "output_type": "stream",
     "text": [
      "                                                                                         "
     ]
    },
    {
     "name": "stdout",
     "output_type": "stream",
     "text": [
      "9      0.5828       0.6902     0.6058       0.6724               \n"
     ]
    },
    {
     "name": "stderr",
     "output_type": "stream",
     "text": [
      "                                                                                          "
     ]
    },
    {
     "name": "stdout",
     "output_type": "stream",
     "text": [
      "10     0.5840       0.6896     0.5961       0.6763               \n"
     ]
    },
    {
     "name": "stderr",
     "output_type": "stream",
     "text": [
      "                                                                                          "
     ]
    },
    {
     "name": "stdout",
     "output_type": "stream",
     "text": [
      "11     0.5796       0.6970     0.5848       0.6915     ★ BEST    \n"
     ]
    },
    {
     "name": "stderr",
     "output_type": "stream",
     "text": [
      "                                                                                          "
     ]
    },
    {
     "name": "stdout",
     "output_type": "stream",
     "text": [
      "12     0.5727       0.7003     0.5833       0.6833               \n"
     ]
    },
    {
     "name": "stderr",
     "output_type": "stream",
     "text": [
      "                                                                                          "
     ]
    },
    {
     "name": "stdout",
     "output_type": "stream",
     "text": [
      "13     0.5649       0.7059     0.5810       0.6920     ★ BEST    \n"
     ]
    },
    {
     "name": "stderr",
     "output_type": "stream",
     "text": [
      "                                                                                          "
     ]
    },
    {
     "name": "stdout",
     "output_type": "stream",
     "text": [
      "14     0.5664       0.7036     0.5794       0.6874               \n"
     ]
    },
    {
     "name": "stderr",
     "output_type": "stream",
     "text": [
      "                                                                                          "
     ]
    },
    {
     "name": "stdout",
     "output_type": "stream",
     "text": [
      "15     0.5647       0.7073     0.5797       0.6925     ★ BEST    \n"
     ]
    },
    {
     "name": "stderr",
     "output_type": "stream",
     "text": [
      "                                                                                          "
     ]
    },
    {
     "name": "stdout",
     "output_type": "stream",
     "text": [
      "16     0.5567       0.7117     0.5793       0.6944     ★ BEST    \n"
     ]
    },
    {
     "name": "stderr",
     "output_type": "stream",
     "text": [
      "                                                                                          "
     ]
    },
    {
     "name": "stdout",
     "output_type": "stream",
     "text": [
      "17     0.5551       0.7131     0.5732       0.6973     ★ BEST    \n"
     ]
    },
    {
     "name": "stderr",
     "output_type": "stream",
     "text": [
      "                                                                                          "
     ]
    },
    {
     "name": "stdout",
     "output_type": "stream",
     "text": [
      "18     0.5661       0.7042     0.5809       0.6840               \n"
     ]
    },
    {
     "name": "stderr",
     "output_type": "stream",
     "text": [
      "                                                                                          "
     ]
    },
    {
     "name": "stdout",
     "output_type": "stream",
     "text": [
      "19     0.5730       0.6973     0.6162       0.6567               \n"
     ]
    },
    {
     "name": "stderr",
     "output_type": "stream",
     "text": [
      "                                                                                          "
     ]
    },
    {
     "name": "stdout",
     "output_type": "stream",
     "text": [
      "20     0.5543       0.7120     0.5692       0.7036     ★ BEST    \n",
      "\n",
      "================================================================================\n",
      "Training completed! Best validation accuracy: 0.7036 at epoch 20\n",
      "================================================================================\n",
      "\n"
     ]
    },
    {
     "name": "stderr",
     "output_type": "stream",
     "text": [
      "\r"
     ]
    },
    {
     "name": "stdout",
     "output_type": "stream",
     "text": [
      "📈 L2 Model Results (wd=1e-05):\n",
      "   Best validation accuracy: 0.7036\n",
      "   Final validation accuracy: 0.7036\n",
      "\n",
      "🔧 Training with L2 regularization (weight_decay=0.0001)\n",
      "\n",
      "================================================================================\n",
      "🚀 STARTING TRAINING - 20 epochs | LR: 0.001 | Batch Size: 512\n",
      "================================================================================\n",
      "Epoch  Train Loss   Train Acc  Valid Loss   Valid Acc  Best      \n",
      "--------------------------------------------------------------------------------\n"
     ]
    },
    {
     "name": "stderr",
     "output_type": "stream",
     "text": [
      "                                                                                         "
     ]
    },
    {
     "name": "stdout",
     "output_type": "stream",
     "text": [
      "1      0.7282       0.5315     0.6672       0.5850     ★ BEST    \n"
     ]
    },
    {
     "name": "stderr",
     "output_type": "stream",
     "text": [
      "                                                       \r"
     ]
    },
    {
     "ename": "KeyboardInterrupt",
     "evalue": "",
     "output_type": "error",
     "traceback": [
      "\u001b[31m---------------------------------------------------------------------------\u001b[39m",
      "\u001b[31mKeyboardInterrupt\u001b[39m                         Traceback (most recent call last)",
      "\u001b[36mCell\u001b[39m\u001b[36m \u001b[39m\u001b[32mIn[10]\u001b[39m\u001b[32m, line 31\u001b[39m\n\u001b[32m     28\u001b[39m l2_results = {}\n\u001b[32m     30\u001b[39m \u001b[38;5;28;01mfor\u001b[39;00m wd \u001b[38;5;129;01min\u001b[39;00m [\u001b[32m1e-5\u001b[39m, \u001b[32m1e-4\u001b[39m, \u001b[32m1e-3\u001b[39m]:  \u001b[38;5;66;03m# Test 3 different L2 weights\u001b[39;00m\n\u001b[32m---> \u001b[39m\u001b[32m31\u001b[39m     model_l2, hist_l2, best_l2, cm_l2, report_l2 = \u001b[43mtrain_with_l2\u001b[49m\u001b[43m(\u001b[49m\u001b[43mweight_decay\u001b[49m\u001b[43m=\u001b[49m\u001b[43mwd\u001b[49m\u001b[43m)\u001b[49m\n\u001b[32m     32\u001b[39m     l2_results[wd] = {\n\u001b[32m     33\u001b[39m         \u001b[33m'\u001b[39m\u001b[33mbest_val_acc\u001b[39m\u001b[33m'\u001b[39m: best_l2[\u001b[33m'\u001b[39m\u001b[33mval_acc\u001b[39m\u001b[33m'\u001b[39m],\n\u001b[32m     34\u001b[39m         \u001b[33m'\u001b[39m\u001b[33mfinal_acc\u001b[39m\u001b[33m'\u001b[39m: report_l2[\u001b[33m'\u001b[39m\u001b[33maccuracy\u001b[39m\u001b[33m'\u001b[39m],\n\u001b[32m     35\u001b[39m         \u001b[33m'\u001b[39m\u001b[33mmodel\u001b[39m\u001b[33m'\u001b[39m: model_l2\n\u001b[32m     36\u001b[39m     }\n\u001b[32m     37\u001b[39m     \u001b[38;5;28mprint\u001b[39m()\n",
      "\u001b[36mCell\u001b[39m\u001b[36m \u001b[39m\u001b[32mIn[10]\u001b[39m\u001b[32m, line 11\u001b[39m, in \u001b[36mtrain_with_l2\u001b[39m\u001b[34m(weight_decay)\u001b[39m\n\u001b[32m      8\u001b[39m model_l2 = FFClassifier(hidden_layers=RECOMMENDED_ARCHITECTURE, activation=\u001b[33m\"\u001b[39m\u001b[33mrelu\u001b[39m\u001b[33m\"\u001b[39m, dropout=\u001b[32m0.0\u001b[39m)\n\u001b[32m     10\u001b[39m \u001b[38;5;66;03m# Train with L2 regularization\u001b[39;00m\n\u001b[32m---> \u001b[39m\u001b[32m11\u001b[39m model_l2, hist_l2, best_l2 = \u001b[43mtrain_model_fixed\u001b[49m\u001b[43m(\u001b[49m\n\u001b[32m     12\u001b[39m \u001b[43m    \u001b[49m\u001b[43mmodel_l2\u001b[49m\u001b[43m,\u001b[49m\u001b[43m \u001b[49m\u001b[43mtrain_loader_fast\u001b[49m\u001b[43m,\u001b[49m\u001b[43m \u001b[49m\u001b[43mvalid_loader_fast\u001b[49m\u001b[43m,\u001b[49m\n\u001b[32m     13\u001b[39m \u001b[43m    \u001b[49m\u001b[43mlr\u001b[49m\u001b[43m=\u001b[49m\u001b[43mRECOMMENDED_LR\u001b[49m\u001b[43m,\u001b[49m\u001b[43m \u001b[49m\u001b[43mweight_decay\u001b[49m\u001b[43m=\u001b[49m\u001b[43mweight_decay\u001b[49m\u001b[43m,\u001b[49m\u001b[43m \u001b[49m\n\u001b[32m     14\u001b[39m \u001b[43m    \u001b[49m\u001b[43mmax_epochs\u001b[49m\u001b[43m=\u001b[49m\u001b[43mEPOCHS_L2\u001b[49m\u001b[43m,\u001b[49m\u001b[43m \u001b[49m\u001b[43mearly_stopping\u001b[49m\u001b[43m=\u001b[49m\u001b[38;5;28;43;01mFalse\u001b[39;49;00m\n\u001b[32m     15\u001b[39m \u001b[43m\u001b[49m\u001b[43m)\u001b[49m\n\u001b[32m     17\u001b[39m \u001b[38;5;66;03m# Evaluate\u001b[39;00m\n\u001b[32m     18\u001b[39m _, _, _, cm_l2, report_l2 = evaluate_on_loader(model_l2, valid_loader_fast)\n",
      "\u001b[36mCell\u001b[39m\u001b[36m \u001b[39m\u001b[32mIn[5]\u001b[39m\u001b[32m, line 26\u001b[39m, in \u001b[36mtrain_model_fixed\u001b[39m\u001b[34m(model, train_loader, valid_loader, lr, weight_decay, max_epochs, early_stopping, patience)\u001b[39m\n\u001b[32m     23\u001b[39m \u001b[38;5;28mprint\u001b[39m(\u001b[33m\"\u001b[39m\u001b[33m-\u001b[39m\u001b[33m\"\u001b[39m * \u001b[32m80\u001b[39m, flush=\u001b[38;5;28;01mTrue\u001b[39;00m)\n\u001b[32m     25\u001b[39m \u001b[38;5;28;01mfor\u001b[39;00m epoch \u001b[38;5;129;01min\u001b[39;00m \u001b[38;5;28mrange\u001b[39m(\u001b[32m1\u001b[39m, max_epochs+\u001b[32m1\u001b[39m):\n\u001b[32m---> \u001b[39m\u001b[32m26\u001b[39m     tr_loss, tr_acc = \u001b[43mrun_epoch\u001b[49m\u001b[43m(\u001b[49m\u001b[43mmodel\u001b[49m\u001b[43m,\u001b[49m\u001b[43m \u001b[49m\u001b[43mtrain_loader\u001b[49m\u001b[43m,\u001b[49m\u001b[43m \u001b[49m\u001b[43mcriterion\u001b[49m\u001b[43m,\u001b[49m\u001b[43m \u001b[49m\u001b[43moptimizer\u001b[49m\u001b[43m,\u001b[49m\u001b[43m \u001b[49m\u001b[43mshow_progress\u001b[49m\u001b[43m=\u001b[49m\u001b[38;5;28;43;01mTrue\u001b[39;49;00m\u001b[43m,\u001b[49m\u001b[43m \u001b[49m\u001b[43mepoch\u001b[49m\u001b[43m=\u001b[49m\u001b[43mepoch\u001b[49m\u001b[43m,\u001b[49m\u001b[43m \u001b[49m\u001b[43mphase\u001b[49m\u001b[43m=\u001b[49m\u001b[33;43m\"\u001b[39;49m\u001b[33;43mtrain\u001b[39;49m\u001b[33;43m\"\u001b[39;49m\u001b[43m)\u001b[49m\n\u001b[32m     27\u001b[39m     va_loss, va_acc = run_epoch(model, valid_loader, criterion, optimizer=\u001b[38;5;28;01mNone\u001b[39;00m, show_progress=\u001b[38;5;28;01mTrue\u001b[39;00m, epoch=epoch, phase=\u001b[33m\"\u001b[39m\u001b[33mvalid\u001b[39m\u001b[33m\"\u001b[39m)\n\u001b[32m     28\u001b[39m     hist[\u001b[33m\"\u001b[39m\u001b[33mtrain_loss\u001b[39m\u001b[33m\"\u001b[39m].append(tr_loss); hist[\u001b[33m\"\u001b[39m\u001b[33mvalid_loss\u001b[39m\u001b[33m\"\u001b[39m].append(va_loss)\n",
      "\u001b[36mCell\u001b[39m\u001b[36m \u001b[39m\u001b[32mIn[8]\u001b[39m\u001b[32m, line 19\u001b[39m, in \u001b[36mrun_epoch\u001b[39m\u001b[34m(model, loader, criterion, optimizer, show_progress, epoch, phase)\u001b[39m\n\u001b[32m     16\u001b[39m     iterator = tqdm(loader, total=\u001b[38;5;28mlen\u001b[39m(loader), desc=desc, leave=\u001b[38;5;28;01mFalse\u001b[39;00m, mininterval=\u001b[32m0.3\u001b[39m)\n\u001b[32m     18\u001b[39m \u001b[38;5;28;01mwith\u001b[39;00m torch.set_grad_enabled(training):\n\u001b[32m---> \u001b[39m\u001b[32m19\u001b[39m \u001b[43m    \u001b[49m\u001b[38;5;28;43;01mfor\u001b[39;49;00m\u001b[43m \u001b[49m\u001b[43mx\u001b[49m\u001b[43m,\u001b[49m\u001b[43m \u001b[49m\u001b[43my\u001b[49m\u001b[43m \u001b[49m\u001b[38;5;129;43;01min\u001b[39;49;00m\u001b[43m \u001b[49m\u001b[43miterator\u001b[49m\u001b[43m:\u001b[49m\n\u001b[32m     20\u001b[39m \u001b[43m        \u001b[49m\u001b[43mx\u001b[49m\u001b[43m,\u001b[49m\u001b[43m \u001b[49m\u001b[43my\u001b[49m\u001b[43m \u001b[49m\u001b[43m=\u001b[49m\u001b[43m \u001b[49m\u001b[43mx\u001b[49m\u001b[43m.\u001b[49m\u001b[43mto\u001b[49m\u001b[43m(\u001b[49m\u001b[43mdevice\u001b[49m\u001b[43m,\u001b[49m\u001b[43m \u001b[49m\u001b[43mnon_blocking\u001b[49m\u001b[43m=\u001b[49m\u001b[38;5;28;43;01mTrue\u001b[39;49;00m\u001b[43m)\u001b[49m\u001b[43m,\u001b[49m\u001b[43m \u001b[49m\u001b[43my\u001b[49m\u001b[43m.\u001b[49m\u001b[43mfloat\u001b[49m\u001b[43m(\u001b[49m\u001b[43m)\u001b[49m\u001b[43m.\u001b[49m\u001b[43mto\u001b[49m\u001b[43m(\u001b[49m\u001b[43mdevice\u001b[49m\u001b[43m,\u001b[49m\u001b[43m \u001b[49m\u001b[43mnon_blocking\u001b[49m\u001b[43m=\u001b[49m\u001b[38;5;28;43;01mTrue\u001b[39;49;00m\u001b[43m)\u001b[49m\n\u001b[32m     21\u001b[39m \u001b[43m        \u001b[49m\u001b[43mlogits\u001b[49m\u001b[43m \u001b[49m\u001b[43m=\u001b[49m\u001b[43m \u001b[49m\u001b[43mmodel\u001b[49m\u001b[43m(\u001b[49m\u001b[43mx\u001b[49m\u001b[43m)\u001b[49m\n",
      "\u001b[36mFile \u001b[39m\u001b[32md:\\GMU Courses\\Sem-3\\DL\\Assignments\\Malaria_dataset\\myenv\\Lib\\site-packages\\tqdm\\std.py:1181\u001b[39m, in \u001b[36mtqdm.__iter__\u001b[39m\u001b[34m(self)\u001b[39m\n\u001b[32m   1178\u001b[39m time = \u001b[38;5;28mself\u001b[39m._time\n\u001b[32m   1180\u001b[39m \u001b[38;5;28;01mtry\u001b[39;00m:\n\u001b[32m-> \u001b[39m\u001b[32m1181\u001b[39m \u001b[43m    \u001b[49m\u001b[38;5;28;43;01mfor\u001b[39;49;00m\u001b[43m \u001b[49m\u001b[43mobj\u001b[49m\u001b[43m \u001b[49m\u001b[38;5;129;43;01min\u001b[39;49;00m\u001b[43m \u001b[49m\u001b[43miterable\u001b[49m\u001b[43m:\u001b[49m\n\u001b[32m   1182\u001b[39m \u001b[43m        \u001b[49m\u001b[38;5;28;43;01myield\u001b[39;49;00m\u001b[43m \u001b[49m\u001b[43mobj\u001b[49m\n\u001b[32m   1183\u001b[39m \u001b[43m        \u001b[49m\u001b[38;5;66;43;03m# Update and possibly print the progressbar.\u001b[39;49;00m\n\u001b[32m   1184\u001b[39m \u001b[43m        \u001b[49m\u001b[38;5;66;43;03m# Note: does not call self.update(1) for speed optimisation.\u001b[39;49;00m\n",
      "\u001b[36mFile \u001b[39m\u001b[32md:\\GMU Courses\\Sem-3\\DL\\Assignments\\Malaria_dataset\\myenv\\Lib\\site-packages\\torch\\utils\\data\\dataloader.py:491\u001b[39m, in \u001b[36mDataLoader.__iter__\u001b[39m\u001b[34m(self)\u001b[39m\n\u001b[32m    489\u001b[39m     \u001b[38;5;28;01mreturn\u001b[39;00m \u001b[38;5;28mself\u001b[39m._iterator\n\u001b[32m    490\u001b[39m \u001b[38;5;28;01melse\u001b[39;00m:\n\u001b[32m--> \u001b[39m\u001b[32m491\u001b[39m     \u001b[38;5;28;01mreturn\u001b[39;00m \u001b[38;5;28;43mself\u001b[39;49m\u001b[43m.\u001b[49m\u001b[43m_get_iterator\u001b[49m\u001b[43m(\u001b[49m\u001b[43m)\u001b[49m\n",
      "\u001b[36mFile \u001b[39m\u001b[32md:\\GMU Courses\\Sem-3\\DL\\Assignments\\Malaria_dataset\\myenv\\Lib\\site-packages\\torch\\utils\\data\\dataloader.py:422\u001b[39m, in \u001b[36mDataLoader._get_iterator\u001b[39m\u001b[34m(self)\u001b[39m\n\u001b[32m    420\u001b[39m \u001b[38;5;28;01melse\u001b[39;00m:\n\u001b[32m    421\u001b[39m     \u001b[38;5;28mself\u001b[39m.check_worker_number_rationality()\n\u001b[32m--> \u001b[39m\u001b[32m422\u001b[39m     \u001b[38;5;28;01mreturn\u001b[39;00m \u001b[43m_MultiProcessingDataLoaderIter\u001b[49m\u001b[43m(\u001b[49m\u001b[38;5;28;43mself\u001b[39;49m\u001b[43m)\u001b[49m\n",
      "\u001b[36mFile \u001b[39m\u001b[32md:\\GMU Courses\\Sem-3\\DL\\Assignments\\Malaria_dataset\\myenv\\Lib\\site-packages\\torch\\utils\\data\\dataloader.py:1146\u001b[39m, in \u001b[36m_MultiProcessingDataLoaderIter.__init__\u001b[39m\u001b[34m(self, loader)\u001b[39m\n\u001b[32m   1139\u001b[39m w.daemon = \u001b[38;5;28;01mTrue\u001b[39;00m\n\u001b[32m   1140\u001b[39m \u001b[38;5;66;03m# NB: Process.start() actually take some time as it needs to\u001b[39;00m\n\u001b[32m   1141\u001b[39m \u001b[38;5;66;03m#     start a process and pass the arguments over via a pipe.\u001b[39;00m\n\u001b[32m   1142\u001b[39m \u001b[38;5;66;03m#     Therefore, we only add a worker to self._workers list after\u001b[39;00m\n\u001b[32m   1143\u001b[39m \u001b[38;5;66;03m#     it started, so that we do not call .join() if program dies\u001b[39;00m\n\u001b[32m   1144\u001b[39m \u001b[38;5;66;03m#     before it starts, and __del__ tries to join but will get:\u001b[39;00m\n\u001b[32m   1145\u001b[39m \u001b[38;5;66;03m#     AssertionError: can only join a started process.\u001b[39;00m\n\u001b[32m-> \u001b[39m\u001b[32m1146\u001b[39m \u001b[43mw\u001b[49m\u001b[43m.\u001b[49m\u001b[43mstart\u001b[49m\u001b[43m(\u001b[49m\u001b[43m)\u001b[49m\n\u001b[32m   1147\u001b[39m \u001b[38;5;28mself\u001b[39m._index_queues.append(index_queue)\n\u001b[32m   1148\u001b[39m \u001b[38;5;28mself\u001b[39m._workers.append(w)\n",
      "\u001b[36mFile \u001b[39m\u001b[32mD:\\Conda\\Lib\\multiprocessing\\process.py:121\u001b[39m, in \u001b[36mBaseProcess.start\u001b[39m\u001b[34m(self)\u001b[39m\n\u001b[32m    118\u001b[39m \u001b[38;5;28;01massert\u001b[39;00m \u001b[38;5;129;01mnot\u001b[39;00m _current_process._config.get(\u001b[33m'\u001b[39m\u001b[33mdaemon\u001b[39m\u001b[33m'\u001b[39m), \\\n\u001b[32m    119\u001b[39m        \u001b[33m'\u001b[39m\u001b[33mdaemonic processes are not allowed to have children\u001b[39m\u001b[33m'\u001b[39m\n\u001b[32m    120\u001b[39m _cleanup()\n\u001b[32m--> \u001b[39m\u001b[32m121\u001b[39m \u001b[38;5;28mself\u001b[39m._popen = \u001b[38;5;28;43mself\u001b[39;49m\u001b[43m.\u001b[49m\u001b[43m_Popen\u001b[49m\u001b[43m(\u001b[49m\u001b[38;5;28;43mself\u001b[39;49m\u001b[43m)\u001b[49m\n\u001b[32m    122\u001b[39m \u001b[38;5;28mself\u001b[39m._sentinel = \u001b[38;5;28mself\u001b[39m._popen.sentinel\n\u001b[32m    123\u001b[39m \u001b[38;5;66;03m# Avoid a refcycle if the target function holds an indirect\u001b[39;00m\n\u001b[32m    124\u001b[39m \u001b[38;5;66;03m# reference to the process object (see bpo-30775)\u001b[39;00m\n",
      "\u001b[36mFile \u001b[39m\u001b[32mD:\\Conda\\Lib\\multiprocessing\\context.py:224\u001b[39m, in \u001b[36mProcess._Popen\u001b[39m\u001b[34m(process_obj)\u001b[39m\n\u001b[32m    222\u001b[39m \u001b[38;5;129m@staticmethod\u001b[39m\n\u001b[32m    223\u001b[39m \u001b[38;5;28;01mdef\u001b[39;00m\u001b[38;5;250m \u001b[39m\u001b[34m_Popen\u001b[39m(process_obj):\n\u001b[32m--> \u001b[39m\u001b[32m224\u001b[39m     \u001b[38;5;28;01mreturn\u001b[39;00m \u001b[43m_default_context\u001b[49m\u001b[43m.\u001b[49m\u001b[43mget_context\u001b[49m\u001b[43m(\u001b[49m\u001b[43m)\u001b[49m\u001b[43m.\u001b[49m\u001b[43mProcess\u001b[49m\u001b[43m.\u001b[49m\u001b[43m_Popen\u001b[49m\u001b[43m(\u001b[49m\u001b[43mprocess_obj\u001b[49m\u001b[43m)\u001b[49m\n",
      "\u001b[36mFile \u001b[39m\u001b[32mD:\\Conda\\Lib\\multiprocessing\\context.py:337\u001b[39m, in \u001b[36mSpawnProcess._Popen\u001b[39m\u001b[34m(process_obj)\u001b[39m\n\u001b[32m    334\u001b[39m \u001b[38;5;129m@staticmethod\u001b[39m\n\u001b[32m    335\u001b[39m \u001b[38;5;28;01mdef\u001b[39;00m\u001b[38;5;250m \u001b[39m\u001b[34m_Popen\u001b[39m(process_obj):\n\u001b[32m    336\u001b[39m     \u001b[38;5;28;01mfrom\u001b[39;00m\u001b[38;5;250m \u001b[39m\u001b[34;01m.\u001b[39;00m\u001b[34;01mpopen_spawn_win32\u001b[39;00m\u001b[38;5;250m \u001b[39m\u001b[38;5;28;01mimport\u001b[39;00m Popen\n\u001b[32m--> \u001b[39m\u001b[32m337\u001b[39m     \u001b[38;5;28;01mreturn\u001b[39;00m \u001b[43mPopen\u001b[49m\u001b[43m(\u001b[49m\u001b[43mprocess_obj\u001b[49m\u001b[43m)\u001b[49m\n",
      "\u001b[36mFile \u001b[39m\u001b[32mD:\\Conda\\Lib\\multiprocessing\\popen_spawn_win32.py:95\u001b[39m, in \u001b[36mPopen.__init__\u001b[39m\u001b[34m(self, process_obj)\u001b[39m\n\u001b[32m     93\u001b[39m \u001b[38;5;28;01mtry\u001b[39;00m:\n\u001b[32m     94\u001b[39m     reduction.dump(prep_data, to_child)\n\u001b[32m---> \u001b[39m\u001b[32m95\u001b[39m     \u001b[43mreduction\u001b[49m\u001b[43m.\u001b[49m\u001b[43mdump\u001b[49m\u001b[43m(\u001b[49m\u001b[43mprocess_obj\u001b[49m\u001b[43m,\u001b[49m\u001b[43m \u001b[49m\u001b[43mto_child\u001b[49m\u001b[43m)\u001b[49m\n\u001b[32m     96\u001b[39m \u001b[38;5;28;01mfinally\u001b[39;00m:\n\u001b[32m     97\u001b[39m     set_spawning_popen(\u001b[38;5;28;01mNone\u001b[39;00m)\n",
      "\u001b[36mFile \u001b[39m\u001b[32mD:\\Conda\\Lib\\multiprocessing\\reduction.py:60\u001b[39m, in \u001b[36mdump\u001b[39m\u001b[34m(obj, file, protocol)\u001b[39m\n\u001b[32m     58\u001b[39m \u001b[38;5;28;01mdef\u001b[39;00m\u001b[38;5;250m \u001b[39m\u001b[34mdump\u001b[39m(obj, file, protocol=\u001b[38;5;28;01mNone\u001b[39;00m):\n\u001b[32m     59\u001b[39m \u001b[38;5;250m    \u001b[39m\u001b[33;03m'''Replacement for pickle.dump() using ForkingPickler.'''\u001b[39;00m\n\u001b[32m---> \u001b[39m\u001b[32m60\u001b[39m     \u001b[43mForkingPickler\u001b[49m\u001b[43m(\u001b[49m\u001b[43mfile\u001b[49m\u001b[43m,\u001b[49m\u001b[43m \u001b[49m\u001b[43mprotocol\u001b[49m\u001b[43m)\u001b[49m\u001b[43m.\u001b[49m\u001b[43mdump\u001b[49m\u001b[43m(\u001b[49m\u001b[43mobj\u001b[49m\u001b[43m)\u001b[49m\n",
      "\u001b[31mKeyboardInterrupt\u001b[39m: "
     ]
    }
   ],
   "source": [
    "# ✅ CORRECTED L2 REGULARIZATION - Works with single model approach\n",
    "\n",
    "def train_with_l2(weight_decay=1e-4):\n",
    "    \"\"\"Train model with L2 regularization\"\"\"\n",
    "    print(f\"🔧 Training with L2 regularization (weight_decay={weight_decay})\")\n",
    "    \n",
    "    # Create model with recommended architecture\n",
    "    model_l2 = FFClassifier(hidden_layers=RECOMMENDED_ARCHITECTURE, activation=\"relu\", dropout=0.0)\n",
    "    \n",
    "    # Train with L2 regularization\n",
    "    model_l2, hist_l2, best_l2 = train_model_fixed(\n",
    "        model_l2, train_loader_fast, valid_loader_fast,\n",
    "        lr=RECOMMENDED_LR, weight_decay=weight_decay, \n",
    "        max_epochs=EPOCHS_L2, early_stopping=False\n",
    "    )\n",
    "    \n",
    "    # Evaluate\n",
    "    _, _, _, cm_l2, report_l2 = evaluate_on_loader(model_l2, valid_loader_fast)\n",
    "    \n",
    "    print(f\"📈 L2 Model Results (wd={weight_decay}):\")\n",
    "    print(f\"   Best validation accuracy: {best_l2['val_acc']:.4f}\")\n",
    "    print(f\"   Final validation accuracy: {report_l2['accuracy']:.4f}\")\n",
    "    \n",
    "    return model_l2, hist_l2, best_l2, cm_l2, report_l2\n",
    "\n",
    "# Test different L2 weights\n",
    "print(\"🧪 Testing L2 regularization with different weights...\")\n",
    "l2_results = {}\n",
    "\n",
    "for wd in [1e-5, 1e-4, 1e-3]:  # Test 3 different L2 weights\n",
    "    model_l2, hist_l2, best_l2, cm_l2, report_l2 = train_with_l2(weight_decay=wd)\n",
    "    l2_results[wd] = {\n",
    "        'best_val_acc': best_l2['val_acc'],\n",
    "        'final_acc': report_l2['accuracy'],\n",
    "        'model': model_l2\n",
    "    }\n",
    "    print()\n",
    "\n",
    "# Find best L2 weight\n",
    "best_wd = max(l2_results.keys(), key=lambda k: l2_results[k]['best_val_acc'])\n",
    "print(f\"🏆 Best L2 weight: {best_wd} with accuracy: {l2_results[best_wd]['best_val_acc']:.4f}\")\n"
   ]
  },
  {
   "cell_type": "markdown",
   "id": "759b2696",
   "metadata": {},
   "source": [
    "## 7) Dropout Regularization\n",
    "Retrain the **same** MLP with Dropout enabled. "
   ]
  },
  {
   "cell_type": "code",
   "execution_count": 11,
   "id": "d84149f6",
   "metadata": {},
   "outputs": [
    {
     "name": "stdout",
     "output_type": "stream",
     "text": [
      "🧪 Testing dropout with different probabilities...\n",
      "🔧 Training with Dropout (p=0.0)\n",
      "\n",
      "================================================================================\n",
      "🚀 STARTING TRAINING - 20 epochs | LR: 0.001 | Batch Size: 512\n",
      "================================================================================\n",
      "Epoch  Train Loss   Train Acc  Valid Loss   Valid Acc  Best      \n",
      "--------------------------------------------------------------------------------\n"
     ]
    },
    {
     "name": "stderr",
     "output_type": "stream",
     "text": [
      "                                                                                         "
     ]
    },
    {
     "name": "stdout",
     "output_type": "stream",
     "text": [
      "1      0.7420       0.5428     0.6680       0.6044     ★ BEST    \n"
     ]
    },
    {
     "name": "stderr",
     "output_type": "stream",
     "text": [
      "                                                                                         "
     ]
    },
    {
     "name": "stdout",
     "output_type": "stream",
     "text": [
      "2      0.6557       0.6162     0.6446       0.6286     ★ BEST    \n"
     ]
    },
    {
     "name": "stderr",
     "output_type": "stream",
     "text": [
      "                                                                                         "
     ]
    },
    {
     "name": "stdout",
     "output_type": "stream",
     "text": [
      "3      0.6360       0.6345     0.6394       0.6271               \n"
     ]
    },
    {
     "name": "stderr",
     "output_type": "stream",
     "text": [
      "                                                                                         "
     ]
    },
    {
     "name": "stdout",
     "output_type": "stream",
     "text": [
      "4      0.6194       0.6529     0.6223       0.6540     ★ BEST    \n"
     ]
    },
    {
     "name": "stderr",
     "output_type": "stream",
     "text": [
      "                                                                                         "
     ]
    },
    {
     "name": "stdout",
     "output_type": "stream",
     "text": [
      "5      0.6094       0.6666     0.6019       0.6755     ★ BEST    \n"
     ]
    },
    {
     "name": "stderr",
     "output_type": "stream",
     "text": [
      "                                                                                         "
     ]
    },
    {
     "name": "stdout",
     "output_type": "stream",
     "text": [
      "6      0.6029       0.6755     0.5982       0.6816     ★ BEST    \n"
     ]
    },
    {
     "name": "stderr",
     "output_type": "stream",
     "text": [
      "                                                                                         "
     ]
    },
    {
     "name": "stdout",
     "output_type": "stream",
     "text": [
      "7      0.5940       0.6820     0.5948       0.6828     ★ BEST    \n"
     ]
    },
    {
     "name": "stderr",
     "output_type": "stream",
     "text": [
      "                                                                                         "
     ]
    },
    {
     "name": "stdout",
     "output_type": "stream",
     "text": [
      "8      0.5861       0.6876     0.6032       0.6719               \n"
     ]
    },
    {
     "name": "stderr",
     "output_type": "stream",
     "text": [
      "                                                                                         "
     ]
    },
    {
     "name": "stdout",
     "output_type": "stream",
     "text": [
      "9      0.6002       0.6773     0.6068       0.6671               \n"
     ]
    },
    {
     "name": "stderr",
     "output_type": "stream",
     "text": [
      "                                                                                          "
     ]
    },
    {
     "name": "stdout",
     "output_type": "stream",
     "text": [
      "10     0.5817       0.6925     0.5996       0.6765               \n"
     ]
    },
    {
     "name": "stderr",
     "output_type": "stream",
     "text": [
      "                                                                                          "
     ]
    },
    {
     "name": "stdout",
     "output_type": "stream",
     "text": [
      "11     0.5762       0.6954     0.5911       0.6855     ★ BEST    \n"
     ]
    },
    {
     "name": "stderr",
     "output_type": "stream",
     "text": [
      "                                                                                          "
     ]
    },
    {
     "name": "stdout",
     "output_type": "stream",
     "text": [
      "12     0.5740       0.6992     0.5868       0.6823               \n"
     ]
    },
    {
     "name": "stderr",
     "output_type": "stream",
     "text": [
      "                                                                                          "
     ]
    },
    {
     "name": "stdout",
     "output_type": "stream",
     "text": [
      "13     0.5715       0.7023     0.5891       0.6799               \n"
     ]
    },
    {
     "name": "stderr",
     "output_type": "stream",
     "text": [
      "                                                                                          "
     ]
    },
    {
     "name": "stdout",
     "output_type": "stream",
     "text": [
      "14     0.5693       0.7045     0.5821       0.6891     ★ BEST    \n"
     ]
    },
    {
     "name": "stderr",
     "output_type": "stream",
     "text": [
      "                                                                                          "
     ]
    },
    {
     "name": "stdout",
     "output_type": "stream",
     "text": [
      "15     0.5651       0.7050     0.6351       0.6436               \n"
     ]
    },
    {
     "name": "stderr",
     "output_type": "stream",
     "text": [
      "                                                                                          "
     ]
    },
    {
     "name": "stdout",
     "output_type": "stream",
     "text": [
      "16     0.5722       0.6983     0.5895       0.6818               \n"
     ]
    },
    {
     "name": "stderr",
     "output_type": "stream",
     "text": [
      "                                                                                          "
     ]
    },
    {
     "name": "stdout",
     "output_type": "stream",
     "text": [
      "17     0.5597       0.7110     0.5848       0.6872               \n"
     ]
    },
    {
     "name": "stderr",
     "output_type": "stream",
     "text": [
      "                                                                                          "
     ]
    },
    {
     "name": "stdout",
     "output_type": "stream",
     "text": [
      "18     0.5633       0.7029     0.5834       0.6896     ★ BEST    \n"
     ]
    },
    {
     "name": "stderr",
     "output_type": "stream",
     "text": [
      "                                                                                          "
     ]
    },
    {
     "name": "stdout",
     "output_type": "stream",
     "text": [
      "19     0.5580       0.7111     0.5668       0.6990     ★ BEST    \n"
     ]
    },
    {
     "name": "stderr",
     "output_type": "stream",
     "text": [
      "                                                                                          "
     ]
    },
    {
     "name": "stdout",
     "output_type": "stream",
     "text": [
      "20     0.5411       0.7251     0.5734       0.7005     ★ BEST    \n",
      "\n",
      "================================================================================\n",
      "Training completed! Best validation accuracy: 0.7005 at epoch 20\n",
      "================================================================================\n",
      "\n"
     ]
    },
    {
     "name": "stderr",
     "output_type": "stream",
     "text": [
      "\r"
     ]
    },
    {
     "name": "stdout",
     "output_type": "stream",
     "text": [
      "📈 Dropout Results (p=0.0): best val acc=0.7005, final acc=0.7005\n",
      "\n",
      "🔧 Training with Dropout (p=0.2)\n",
      "\n",
      "================================================================================\n",
      "🚀 STARTING TRAINING - 20 epochs | LR: 0.001 | Batch Size: 512\n",
      "================================================================================\n",
      "Epoch  Train Loss   Train Acc  Valid Loss   Valid Acc  Best      \n",
      "--------------------------------------------------------------------------------\n"
     ]
    },
    {
     "name": "stderr",
     "output_type": "stream",
     "text": [
      "                                                                                         "
     ]
    },
    {
     "name": "stdout",
     "output_type": "stream",
     "text": [
      "1      0.7540       0.5158     0.6788       0.5514     ★ BEST    \n"
     ]
    },
    {
     "name": "stderr",
     "output_type": "stream",
     "text": [
      "                                                                                         "
     ]
    },
    {
     "name": "stdout",
     "output_type": "stream",
     "text": [
      "2      0.6731       0.5765     0.6542       0.6150     ★ BEST    \n"
     ]
    },
    {
     "name": "stderr",
     "output_type": "stream",
     "text": [
      "                                                                                         "
     ]
    },
    {
     "name": "stdout",
     "output_type": "stream",
     "text": [
      "3      0.6516       0.6176     0.6355       0.6344     ★ BEST    \n"
     ]
    },
    {
     "name": "stderr",
     "output_type": "stream",
     "text": [
      "                                                                                         "
     ]
    },
    {
     "name": "stdout",
     "output_type": "stream",
     "text": [
      "4      0.6415       0.6257     0.6269       0.6496     ★ BEST    \n"
     ]
    },
    {
     "name": "stderr",
     "output_type": "stream",
     "text": [
      "                                                                                         "
     ]
    },
    {
     "name": "stdout",
     "output_type": "stream",
     "text": [
      "5      0.6215       0.6524     0.6195       0.6550     ★ BEST    \n"
     ]
    },
    {
     "name": "stderr",
     "output_type": "stream",
     "text": [
      "                                                                                         "
     ]
    },
    {
     "name": "stdout",
     "output_type": "stream",
     "text": [
      "6      0.6090       0.6673     0.6006       0.6726     ★ BEST    \n"
     ]
    },
    {
     "name": "stderr",
     "output_type": "stream",
     "text": [
      "                                                                                         "
     ]
    },
    {
     "name": "stdout",
     "output_type": "stream",
     "text": [
      "7      0.6110       0.6649     0.6121       0.6588               \n"
     ]
    },
    {
     "name": "stderr",
     "output_type": "stream",
     "text": [
      "                                                                                         "
     ]
    },
    {
     "name": "stdout",
     "output_type": "stream",
     "text": [
      "8      0.5979       0.6786     0.5988       0.6738     ★ BEST    \n"
     ]
    },
    {
     "name": "stderr",
     "output_type": "stream",
     "text": [
      "                                                                                         "
     ]
    },
    {
     "name": "stdout",
     "output_type": "stream",
     "text": [
      "9      0.5971       0.6823     0.5944       0.6799     ★ BEST    \n"
     ]
    },
    {
     "name": "stderr",
     "output_type": "stream",
     "text": [
      "                                                                                          "
     ]
    },
    {
     "name": "stdout",
     "output_type": "stream",
     "text": [
      "10     0.5988       0.6767     0.5945       0.6748               \n"
     ]
    },
    {
     "name": "stderr",
     "output_type": "stream",
     "text": [
      "                                                                                          "
     ]
    },
    {
     "name": "stdout",
     "output_type": "stream",
     "text": [
      "11     0.5965       0.6831     0.5927       0.6806     ★ BEST    \n"
     ]
    },
    {
     "name": "stderr",
     "output_type": "stream",
     "text": [
      "                                                                                          "
     ]
    },
    {
     "name": "stdout",
     "output_type": "stream",
     "text": [
      "12     0.5884       0.6847     0.5912       0.6845     ★ BEST    \n"
     ]
    },
    {
     "name": "stderr",
     "output_type": "stream",
     "text": [
      "                                                                                          "
     ]
    },
    {
     "name": "stdout",
     "output_type": "stream",
     "text": [
      "13     0.5931       0.6829     0.5922       0.6794               \n"
     ]
    },
    {
     "name": "stderr",
     "output_type": "stream",
     "text": [
      "                                                                                          "
     ]
    },
    {
     "name": "stdout",
     "output_type": "stream",
     "text": [
      "14     0.5844       0.6909     0.5890       0.6869     ★ BEST    \n"
     ]
    },
    {
     "name": "stderr",
     "output_type": "stream",
     "text": [
      "                                                                                          "
     ]
    },
    {
     "name": "stdout",
     "output_type": "stream",
     "text": [
      "15     0.5883       0.6866     0.5888       0.6874     ★ BEST    \n"
     ]
    },
    {
     "name": "stderr",
     "output_type": "stream",
     "text": [
      "                                                                                          "
     ]
    },
    {
     "name": "stdout",
     "output_type": "stream",
     "text": [
      "16     0.5818       0.6896     0.5898       0.6852               \n"
     ]
    },
    {
     "name": "stderr",
     "output_type": "stream",
     "text": [
      "                                                                                          "
     ]
    },
    {
     "name": "stdout",
     "output_type": "stream",
     "text": [
      "17     0.5843       0.6901     0.6034       0.6692               \n"
     ]
    },
    {
     "name": "stderr",
     "output_type": "stream",
     "text": [
      "                                                                                          "
     ]
    },
    {
     "name": "stdout",
     "output_type": "stream",
     "text": [
      "18     0.5884       0.6848     0.5887       0.6850               \n"
     ]
    },
    {
     "name": "stderr",
     "output_type": "stream",
     "text": [
      "                                                                                          "
     ]
    },
    {
     "name": "stdout",
     "output_type": "stream",
     "text": [
      "19     0.5850       0.6902     0.5942       0.6799               \n"
     ]
    },
    {
     "name": "stderr",
     "output_type": "stream",
     "text": [
      "                                                                                          "
     ]
    },
    {
     "name": "stdout",
     "output_type": "stream",
     "text": [
      "20     0.5864       0.6864     0.5893       0.6830               \n",
      "\n",
      "================================================================================\n",
      "Training completed! Best validation accuracy: 0.6874 at epoch 15\n",
      "================================================================================\n",
      "\n"
     ]
    },
    {
     "name": "stderr",
     "output_type": "stream",
     "text": [
      "\r"
     ]
    },
    {
     "name": "stdout",
     "output_type": "stream",
     "text": [
      "📈 Dropout Results (p=0.2): best val acc=0.6874, final acc=0.6874\n",
      "\n",
      "🔧 Training with Dropout (p=0.4)\n",
      "\n",
      "================================================================================\n",
      "🚀 STARTING TRAINING - 20 epochs | LR: 0.001 | Batch Size: 512\n",
      "================================================================================\n",
      "Epoch  Train Loss   Train Acc  Valid Loss   Valid Acc  Best      \n",
      "--------------------------------------------------------------------------------\n"
     ]
    },
    {
     "name": "stderr",
     "output_type": "stream",
     "text": [
      "                                                                                         "
     ]
    },
    {
     "name": "stdout",
     "output_type": "stream",
     "text": [
      "1      0.8297       0.5112     0.6898       0.5998     ★ BEST    \n"
     ]
    },
    {
     "name": "stderr",
     "output_type": "stream",
     "text": [
      "                                                                                         "
     ]
    },
    {
     "name": "stdout",
     "output_type": "stream",
     "text": [
      "2      0.6857       0.5462     0.6708       0.6003     ★ BEST    \n"
     ]
    },
    {
     "name": "stderr",
     "output_type": "stream",
     "text": [
      "                                                                                         "
     ]
    },
    {
     "name": "stdout",
     "output_type": "stream",
     "text": [
      "3      0.6698       0.5876     0.6544       0.6136     ★ BEST    \n"
     ]
    },
    {
     "name": "stderr",
     "output_type": "stream",
     "text": [
      "                                                                                         "
     ]
    },
    {
     "name": "stdout",
     "output_type": "stream",
     "text": [
      "4      0.6540       0.6173     0.6429       0.6209     ★ BEST    \n"
     ]
    },
    {
     "name": "stderr",
     "output_type": "stream",
     "text": [
      "                                                       \r"
     ]
    },
    {
     "ename": "KeyboardInterrupt",
     "evalue": "",
     "output_type": "error",
     "traceback": [
      "\u001b[31m---------------------------------------------------------------------------\u001b[39m",
      "\u001b[31mKeyboardInterrupt\u001b[39m                         Traceback (most recent call last)",
      "\u001b[36mCell\u001b[39m\u001b[36m \u001b[39m\u001b[32mIn[11]\u001b[39m\u001b[32m, line 22\u001b[39m\n\u001b[32m     19\u001b[39m dropout_results = {}\n\u001b[32m     21\u001b[39m \u001b[38;5;28;01mfor\u001b[39;00m p \u001b[38;5;129;01min\u001b[39;00m [\u001b[32m0.0\u001b[39m, \u001b[32m0.2\u001b[39m, \u001b[32m0.4\u001b[39m]:  \u001b[38;5;66;03m# Uses your configured EPOCHS_DROPOUT\u001b[39;00m\n\u001b[32m---> \u001b[39m\u001b[32m22\u001b[39m     model_do, hist_do, best_do, cm_do, report_do = \u001b[43mtrain_with_dropout\u001b[49m\u001b[43m(\u001b[49m\u001b[43mdropout_p\u001b[49m\u001b[43m=\u001b[49m\u001b[43mp\u001b[49m\u001b[43m)\u001b[49m\n\u001b[32m     23\u001b[39m     dropout_results[p] = {\n\u001b[32m     24\u001b[39m         \u001b[33m'\u001b[39m\u001b[33mbest_val_acc\u001b[39m\u001b[33m'\u001b[39m: best_do[\u001b[33m'\u001b[39m\u001b[33mval_acc\u001b[39m\u001b[33m'\u001b[39m],\n\u001b[32m     25\u001b[39m         \u001b[33m'\u001b[39m\u001b[33mfinal_acc\u001b[39m\u001b[33m'\u001b[39m: report_do[\u001b[33m'\u001b[39m\u001b[33maccuracy\u001b[39m\u001b[33m'\u001b[39m],\n\u001b[32m     26\u001b[39m         \u001b[33m'\u001b[39m\u001b[33mmodel\u001b[39m\u001b[33m'\u001b[39m: model_do\n\u001b[32m     27\u001b[39m     }\n\u001b[32m     28\u001b[39m     \u001b[38;5;28mprint\u001b[39m()\n",
      "\u001b[36mCell\u001b[39m\u001b[36m \u001b[39m\u001b[32mIn[11]\u001b[39m\u001b[32m, line 8\u001b[39m, in \u001b[36mtrain_with_dropout\u001b[39m\u001b[34m(dropout_p)\u001b[39m\n\u001b[32m      5\u001b[39m \u001b[38;5;28mprint\u001b[39m(\u001b[33mf\u001b[39m\u001b[33m\"\u001b[39m\u001b[33m🔧 Training with Dropout (p=\u001b[39m\u001b[38;5;132;01m{\u001b[39;00mdropout_p\u001b[38;5;132;01m}\u001b[39;00m\u001b[33m)\u001b[39m\u001b[33m\"\u001b[39m)\n\u001b[32m      7\u001b[39m model_do = FFClassifier(hidden_layers=RECOMMENDED_ARCHITECTURE, activation=\u001b[33m\"\u001b[39m\u001b[33mrelu\u001b[39m\u001b[33m\"\u001b[39m, dropout=dropout_p)\n\u001b[32m----> \u001b[39m\u001b[32m8\u001b[39m model_do, hist_do, best_do = \u001b[43mtrain_model_fixed\u001b[49m\u001b[43m(\u001b[49m\n\u001b[32m      9\u001b[39m \u001b[43m    \u001b[49m\u001b[43mmodel_do\u001b[49m\u001b[43m,\u001b[49m\u001b[43m \u001b[49m\u001b[43mtrain_loader_fast\u001b[49m\u001b[43m,\u001b[49m\u001b[43m \u001b[49m\u001b[43mvalid_loader_fast\u001b[49m\u001b[43m,\u001b[49m\n\u001b[32m     10\u001b[39m \u001b[43m    \u001b[49m\u001b[43mlr\u001b[49m\u001b[43m=\u001b[49m\u001b[43mRECOMMENDED_LR\u001b[49m\u001b[43m,\u001b[49m\u001b[43m \u001b[49m\u001b[43mweight_decay\u001b[49m\u001b[43m=\u001b[49m\u001b[32;43m0.0\u001b[39;49m\u001b[43m,\u001b[49m\n\u001b[32m     11\u001b[39m \u001b[43m    \u001b[49m\u001b[43mmax_epochs\u001b[49m\u001b[43m=\u001b[49m\u001b[43mEPOCHS_DROPOUT\u001b[49m\u001b[43m,\u001b[49m\u001b[43m \u001b[49m\u001b[43mearly_stopping\u001b[49m\u001b[43m=\u001b[49m\u001b[38;5;28;43;01mFalse\u001b[39;49;00m\n\u001b[32m     12\u001b[39m \u001b[43m\u001b[49m\u001b[43m)\u001b[49m\n\u001b[32m     14\u001b[39m _, _, _, cm_do, report_do = evaluate_on_loader(model_do, valid_loader_fast)\n\u001b[32m     15\u001b[39m \u001b[38;5;28mprint\u001b[39m(\u001b[33mf\u001b[39m\u001b[33m\"\u001b[39m\u001b[33m📈 Dropout Results (p=\u001b[39m\u001b[38;5;132;01m{\u001b[39;00mdropout_p\u001b[38;5;132;01m}\u001b[39;00m\u001b[33m): best val acc=\u001b[39m\u001b[38;5;132;01m{\u001b[39;00mbest_do[\u001b[33m'\u001b[39m\u001b[33mval_acc\u001b[39m\u001b[33m'\u001b[39m]\u001b[38;5;132;01m:\u001b[39;00m\u001b[33m.4f\u001b[39m\u001b[38;5;132;01m}\u001b[39;00m\u001b[33m, final acc=\u001b[39m\u001b[38;5;132;01m{\u001b[39;00mreport_do[\u001b[33m'\u001b[39m\u001b[33maccuracy\u001b[39m\u001b[33m'\u001b[39m]\u001b[38;5;132;01m:\u001b[39;00m\u001b[33m.4f\u001b[39m\u001b[38;5;132;01m}\u001b[39;00m\u001b[33m\"\u001b[39m)\n",
      "\u001b[36mCell\u001b[39m\u001b[36m \u001b[39m\u001b[32mIn[5]\u001b[39m\u001b[32m, line 26\u001b[39m, in \u001b[36mtrain_model_fixed\u001b[39m\u001b[34m(model, train_loader, valid_loader, lr, weight_decay, max_epochs, early_stopping, patience)\u001b[39m\n\u001b[32m     23\u001b[39m \u001b[38;5;28mprint\u001b[39m(\u001b[33m\"\u001b[39m\u001b[33m-\u001b[39m\u001b[33m\"\u001b[39m * \u001b[32m80\u001b[39m, flush=\u001b[38;5;28;01mTrue\u001b[39;00m)\n\u001b[32m     25\u001b[39m \u001b[38;5;28;01mfor\u001b[39;00m epoch \u001b[38;5;129;01min\u001b[39;00m \u001b[38;5;28mrange\u001b[39m(\u001b[32m1\u001b[39m, max_epochs+\u001b[32m1\u001b[39m):\n\u001b[32m---> \u001b[39m\u001b[32m26\u001b[39m     tr_loss, tr_acc = \u001b[43mrun_epoch\u001b[49m\u001b[43m(\u001b[49m\u001b[43mmodel\u001b[49m\u001b[43m,\u001b[49m\u001b[43m \u001b[49m\u001b[43mtrain_loader\u001b[49m\u001b[43m,\u001b[49m\u001b[43m \u001b[49m\u001b[43mcriterion\u001b[49m\u001b[43m,\u001b[49m\u001b[43m \u001b[49m\u001b[43moptimizer\u001b[49m\u001b[43m,\u001b[49m\u001b[43m \u001b[49m\u001b[43mshow_progress\u001b[49m\u001b[43m=\u001b[49m\u001b[38;5;28;43;01mTrue\u001b[39;49;00m\u001b[43m,\u001b[49m\u001b[43m \u001b[49m\u001b[43mepoch\u001b[49m\u001b[43m=\u001b[49m\u001b[43mepoch\u001b[49m\u001b[43m,\u001b[49m\u001b[43m \u001b[49m\u001b[43mphase\u001b[49m\u001b[43m=\u001b[49m\u001b[33;43m\"\u001b[39;49m\u001b[33;43mtrain\u001b[39;49m\u001b[33;43m\"\u001b[39;49m\u001b[43m)\u001b[49m\n\u001b[32m     27\u001b[39m     va_loss, va_acc = run_epoch(model, valid_loader, criterion, optimizer=\u001b[38;5;28;01mNone\u001b[39;00m, show_progress=\u001b[38;5;28;01mTrue\u001b[39;00m, epoch=epoch, phase=\u001b[33m\"\u001b[39m\u001b[33mvalid\u001b[39m\u001b[33m\"\u001b[39m)\n\u001b[32m     28\u001b[39m     hist[\u001b[33m\"\u001b[39m\u001b[33mtrain_loss\u001b[39m\u001b[33m\"\u001b[39m].append(tr_loss); hist[\u001b[33m\"\u001b[39m\u001b[33mvalid_loss\u001b[39m\u001b[33m\"\u001b[39m].append(va_loss)\n",
      "\u001b[36mCell\u001b[39m\u001b[36m \u001b[39m\u001b[32mIn[8]\u001b[39m\u001b[32m, line 19\u001b[39m, in \u001b[36mrun_epoch\u001b[39m\u001b[34m(model, loader, criterion, optimizer, show_progress, epoch, phase)\u001b[39m\n\u001b[32m     16\u001b[39m     iterator = tqdm(loader, total=\u001b[38;5;28mlen\u001b[39m(loader), desc=desc, leave=\u001b[38;5;28;01mFalse\u001b[39;00m, mininterval=\u001b[32m0.3\u001b[39m)\n\u001b[32m     18\u001b[39m \u001b[38;5;28;01mwith\u001b[39;00m torch.set_grad_enabled(training):\n\u001b[32m---> \u001b[39m\u001b[32m19\u001b[39m \u001b[43m    \u001b[49m\u001b[38;5;28;43;01mfor\u001b[39;49;00m\u001b[43m \u001b[49m\u001b[43mx\u001b[49m\u001b[43m,\u001b[49m\u001b[43m \u001b[49m\u001b[43my\u001b[49m\u001b[43m \u001b[49m\u001b[38;5;129;43;01min\u001b[39;49;00m\u001b[43m \u001b[49m\u001b[43miterator\u001b[49m\u001b[43m:\u001b[49m\n\u001b[32m     20\u001b[39m \u001b[43m        \u001b[49m\u001b[43mx\u001b[49m\u001b[43m,\u001b[49m\u001b[43m \u001b[49m\u001b[43my\u001b[49m\u001b[43m \u001b[49m\u001b[43m=\u001b[49m\u001b[43m \u001b[49m\u001b[43mx\u001b[49m\u001b[43m.\u001b[49m\u001b[43mto\u001b[49m\u001b[43m(\u001b[49m\u001b[43mdevice\u001b[49m\u001b[43m,\u001b[49m\u001b[43m \u001b[49m\u001b[43mnon_blocking\u001b[49m\u001b[43m=\u001b[49m\u001b[38;5;28;43;01mTrue\u001b[39;49;00m\u001b[43m)\u001b[49m\u001b[43m,\u001b[49m\u001b[43m \u001b[49m\u001b[43my\u001b[49m\u001b[43m.\u001b[49m\u001b[43mfloat\u001b[49m\u001b[43m(\u001b[49m\u001b[43m)\u001b[49m\u001b[43m.\u001b[49m\u001b[43mto\u001b[49m\u001b[43m(\u001b[49m\u001b[43mdevice\u001b[49m\u001b[43m,\u001b[49m\u001b[43m \u001b[49m\u001b[43mnon_blocking\u001b[49m\u001b[43m=\u001b[49m\u001b[38;5;28;43;01mTrue\u001b[39;49;00m\u001b[43m)\u001b[49m\n\u001b[32m     21\u001b[39m \u001b[43m        \u001b[49m\u001b[43mlogits\u001b[49m\u001b[43m \u001b[49m\u001b[43m=\u001b[49m\u001b[43m \u001b[49m\u001b[43mmodel\u001b[49m\u001b[43m(\u001b[49m\u001b[43mx\u001b[49m\u001b[43m)\u001b[49m\n",
      "\u001b[36mFile \u001b[39m\u001b[32md:\\GMU Courses\\Sem-3\\DL\\Assignments\\Malaria_dataset\\myenv\\Lib\\site-packages\\tqdm\\std.py:1181\u001b[39m, in \u001b[36mtqdm.__iter__\u001b[39m\u001b[34m(self)\u001b[39m\n\u001b[32m   1178\u001b[39m time = \u001b[38;5;28mself\u001b[39m._time\n\u001b[32m   1180\u001b[39m \u001b[38;5;28;01mtry\u001b[39;00m:\n\u001b[32m-> \u001b[39m\u001b[32m1181\u001b[39m \u001b[43m    \u001b[49m\u001b[38;5;28;43;01mfor\u001b[39;49;00m\u001b[43m \u001b[49m\u001b[43mobj\u001b[49m\u001b[43m \u001b[49m\u001b[38;5;129;43;01min\u001b[39;49;00m\u001b[43m \u001b[49m\u001b[43miterable\u001b[49m\u001b[43m:\u001b[49m\n\u001b[32m   1182\u001b[39m \u001b[43m        \u001b[49m\u001b[38;5;28;43;01myield\u001b[39;49;00m\u001b[43m \u001b[49m\u001b[43mobj\u001b[49m\n\u001b[32m   1183\u001b[39m \u001b[43m        \u001b[49m\u001b[38;5;66;43;03m# Update and possibly print the progressbar.\u001b[39;49;00m\n\u001b[32m   1184\u001b[39m \u001b[43m        \u001b[49m\u001b[38;5;66;43;03m# Note: does not call self.update(1) for speed optimisation.\u001b[39;49;00m\n",
      "\u001b[36mFile \u001b[39m\u001b[32md:\\GMU Courses\\Sem-3\\DL\\Assignments\\Malaria_dataset\\myenv\\Lib\\site-packages\\torch\\utils\\data\\dataloader.py:491\u001b[39m, in \u001b[36mDataLoader.__iter__\u001b[39m\u001b[34m(self)\u001b[39m\n\u001b[32m    489\u001b[39m     \u001b[38;5;28;01mreturn\u001b[39;00m \u001b[38;5;28mself\u001b[39m._iterator\n\u001b[32m    490\u001b[39m \u001b[38;5;28;01melse\u001b[39;00m:\n\u001b[32m--> \u001b[39m\u001b[32m491\u001b[39m     \u001b[38;5;28;01mreturn\u001b[39;00m \u001b[38;5;28;43mself\u001b[39;49m\u001b[43m.\u001b[49m\u001b[43m_get_iterator\u001b[49m\u001b[43m(\u001b[49m\u001b[43m)\u001b[49m\n",
      "\u001b[36mFile \u001b[39m\u001b[32md:\\GMU Courses\\Sem-3\\DL\\Assignments\\Malaria_dataset\\myenv\\Lib\\site-packages\\torch\\utils\\data\\dataloader.py:422\u001b[39m, in \u001b[36mDataLoader._get_iterator\u001b[39m\u001b[34m(self)\u001b[39m\n\u001b[32m    420\u001b[39m \u001b[38;5;28;01melse\u001b[39;00m:\n\u001b[32m    421\u001b[39m     \u001b[38;5;28mself\u001b[39m.check_worker_number_rationality()\n\u001b[32m--> \u001b[39m\u001b[32m422\u001b[39m     \u001b[38;5;28;01mreturn\u001b[39;00m \u001b[43m_MultiProcessingDataLoaderIter\u001b[49m\u001b[43m(\u001b[49m\u001b[38;5;28;43mself\u001b[39;49m\u001b[43m)\u001b[49m\n",
      "\u001b[36mFile \u001b[39m\u001b[32md:\\GMU Courses\\Sem-3\\DL\\Assignments\\Malaria_dataset\\myenv\\Lib\\site-packages\\torch\\utils\\data\\dataloader.py:1146\u001b[39m, in \u001b[36m_MultiProcessingDataLoaderIter.__init__\u001b[39m\u001b[34m(self, loader)\u001b[39m\n\u001b[32m   1139\u001b[39m w.daemon = \u001b[38;5;28;01mTrue\u001b[39;00m\n\u001b[32m   1140\u001b[39m \u001b[38;5;66;03m# NB: Process.start() actually take some time as it needs to\u001b[39;00m\n\u001b[32m   1141\u001b[39m \u001b[38;5;66;03m#     start a process and pass the arguments over via a pipe.\u001b[39;00m\n\u001b[32m   1142\u001b[39m \u001b[38;5;66;03m#     Therefore, we only add a worker to self._workers list after\u001b[39;00m\n\u001b[32m   1143\u001b[39m \u001b[38;5;66;03m#     it started, so that we do not call .join() if program dies\u001b[39;00m\n\u001b[32m   1144\u001b[39m \u001b[38;5;66;03m#     before it starts, and __del__ tries to join but will get:\u001b[39;00m\n\u001b[32m   1145\u001b[39m \u001b[38;5;66;03m#     AssertionError: can only join a started process.\u001b[39;00m\n\u001b[32m-> \u001b[39m\u001b[32m1146\u001b[39m \u001b[43mw\u001b[49m\u001b[43m.\u001b[49m\u001b[43mstart\u001b[49m\u001b[43m(\u001b[49m\u001b[43m)\u001b[49m\n\u001b[32m   1147\u001b[39m \u001b[38;5;28mself\u001b[39m._index_queues.append(index_queue)\n\u001b[32m   1148\u001b[39m \u001b[38;5;28mself\u001b[39m._workers.append(w)\n",
      "\u001b[36mFile \u001b[39m\u001b[32mD:\\Conda\\Lib\\multiprocessing\\process.py:121\u001b[39m, in \u001b[36mBaseProcess.start\u001b[39m\u001b[34m(self)\u001b[39m\n\u001b[32m    118\u001b[39m \u001b[38;5;28;01massert\u001b[39;00m \u001b[38;5;129;01mnot\u001b[39;00m _current_process._config.get(\u001b[33m'\u001b[39m\u001b[33mdaemon\u001b[39m\u001b[33m'\u001b[39m), \\\n\u001b[32m    119\u001b[39m        \u001b[33m'\u001b[39m\u001b[33mdaemonic processes are not allowed to have children\u001b[39m\u001b[33m'\u001b[39m\n\u001b[32m    120\u001b[39m _cleanup()\n\u001b[32m--> \u001b[39m\u001b[32m121\u001b[39m \u001b[38;5;28mself\u001b[39m._popen = \u001b[38;5;28;43mself\u001b[39;49m\u001b[43m.\u001b[49m\u001b[43m_Popen\u001b[49m\u001b[43m(\u001b[49m\u001b[38;5;28;43mself\u001b[39;49m\u001b[43m)\u001b[49m\n\u001b[32m    122\u001b[39m \u001b[38;5;28mself\u001b[39m._sentinel = \u001b[38;5;28mself\u001b[39m._popen.sentinel\n\u001b[32m    123\u001b[39m \u001b[38;5;66;03m# Avoid a refcycle if the target function holds an indirect\u001b[39;00m\n\u001b[32m    124\u001b[39m \u001b[38;5;66;03m# reference to the process object (see bpo-30775)\u001b[39;00m\n",
      "\u001b[36mFile \u001b[39m\u001b[32mD:\\Conda\\Lib\\multiprocessing\\context.py:224\u001b[39m, in \u001b[36mProcess._Popen\u001b[39m\u001b[34m(process_obj)\u001b[39m\n\u001b[32m    222\u001b[39m \u001b[38;5;129m@staticmethod\u001b[39m\n\u001b[32m    223\u001b[39m \u001b[38;5;28;01mdef\u001b[39;00m\u001b[38;5;250m \u001b[39m\u001b[34m_Popen\u001b[39m(process_obj):\n\u001b[32m--> \u001b[39m\u001b[32m224\u001b[39m     \u001b[38;5;28;01mreturn\u001b[39;00m \u001b[43m_default_context\u001b[49m\u001b[43m.\u001b[49m\u001b[43mget_context\u001b[49m\u001b[43m(\u001b[49m\u001b[43m)\u001b[49m\u001b[43m.\u001b[49m\u001b[43mProcess\u001b[49m\u001b[43m.\u001b[49m\u001b[43m_Popen\u001b[49m\u001b[43m(\u001b[49m\u001b[43mprocess_obj\u001b[49m\u001b[43m)\u001b[49m\n",
      "\u001b[36mFile \u001b[39m\u001b[32mD:\\Conda\\Lib\\multiprocessing\\context.py:337\u001b[39m, in \u001b[36mSpawnProcess._Popen\u001b[39m\u001b[34m(process_obj)\u001b[39m\n\u001b[32m    334\u001b[39m \u001b[38;5;129m@staticmethod\u001b[39m\n\u001b[32m    335\u001b[39m \u001b[38;5;28;01mdef\u001b[39;00m\u001b[38;5;250m \u001b[39m\u001b[34m_Popen\u001b[39m(process_obj):\n\u001b[32m    336\u001b[39m     \u001b[38;5;28;01mfrom\u001b[39;00m\u001b[38;5;250m \u001b[39m\u001b[34;01m.\u001b[39;00m\u001b[34;01mpopen_spawn_win32\u001b[39;00m\u001b[38;5;250m \u001b[39m\u001b[38;5;28;01mimport\u001b[39;00m Popen\n\u001b[32m--> \u001b[39m\u001b[32m337\u001b[39m     \u001b[38;5;28;01mreturn\u001b[39;00m \u001b[43mPopen\u001b[49m\u001b[43m(\u001b[49m\u001b[43mprocess_obj\u001b[49m\u001b[43m)\u001b[49m\n",
      "\u001b[36mFile \u001b[39m\u001b[32mD:\\Conda\\Lib\\multiprocessing\\popen_spawn_win32.py:95\u001b[39m, in \u001b[36mPopen.__init__\u001b[39m\u001b[34m(self, process_obj)\u001b[39m\n\u001b[32m     93\u001b[39m \u001b[38;5;28;01mtry\u001b[39;00m:\n\u001b[32m     94\u001b[39m     reduction.dump(prep_data, to_child)\n\u001b[32m---> \u001b[39m\u001b[32m95\u001b[39m     \u001b[43mreduction\u001b[49m\u001b[43m.\u001b[49m\u001b[43mdump\u001b[49m\u001b[43m(\u001b[49m\u001b[43mprocess_obj\u001b[49m\u001b[43m,\u001b[49m\u001b[43m \u001b[49m\u001b[43mto_child\u001b[49m\u001b[43m)\u001b[49m\n\u001b[32m     96\u001b[39m \u001b[38;5;28;01mfinally\u001b[39;00m:\n\u001b[32m     97\u001b[39m     set_spawning_popen(\u001b[38;5;28;01mNone\u001b[39;00m)\n",
      "\u001b[36mFile \u001b[39m\u001b[32mD:\\Conda\\Lib\\multiprocessing\\reduction.py:60\u001b[39m, in \u001b[36mdump\u001b[39m\u001b[34m(obj, file, protocol)\u001b[39m\n\u001b[32m     58\u001b[39m \u001b[38;5;28;01mdef\u001b[39;00m\u001b[38;5;250m \u001b[39m\u001b[34mdump\u001b[39m(obj, file, protocol=\u001b[38;5;28;01mNone\u001b[39;00m):\n\u001b[32m     59\u001b[39m \u001b[38;5;250m    \u001b[39m\u001b[33;03m'''Replacement for pickle.dump() using ForkingPickler.'''\u001b[39;00m\n\u001b[32m---> \u001b[39m\u001b[32m60\u001b[39m     \u001b[43mForkingPickler\u001b[49m\u001b[43m(\u001b[49m\u001b[43mfile\u001b[49m\u001b[43m,\u001b[49m\u001b[43m \u001b[49m\u001b[43mprotocol\u001b[49m\u001b[43m)\u001b[49m\u001b[43m.\u001b[49m\u001b[43mdump\u001b[49m\u001b[43m(\u001b[49m\u001b[43mobj\u001b[49m\u001b[43m)\u001b[49m\n",
      "\u001b[31mKeyboardInterrupt\u001b[39m: "
     ]
    }
   ],
   "source": [
    "# ✅ CORRECTED DROPOUT EXPERIMENT - Matches single-model setup\n",
    "\n",
    "def train_with_dropout(dropout_p=0.0):\n",
    "    \"\"\"Train model with dropout probability dropout_p.\"\"\"\n",
    "    print(f\"🔧 Training with Dropout (p={dropout_p})\")\n",
    "    \n",
    "    model_do = FFClassifier(hidden_layers=RECOMMENDED_ARCHITECTURE, activation=\"relu\", dropout=dropout_p)\n",
    "    model_do, hist_do, best_do = train_model_fixed(\n",
    "        model_do, train_loader_fast, valid_loader_fast,\n",
    "        lr=RECOMMENDED_LR, weight_decay=0.0,\n",
    "        max_epochs=EPOCHS_DROPOUT, early_stopping=False\n",
    "    )\n",
    "    \n",
    "    _, _, _, cm_do, report_do = evaluate_on_loader(model_do, valid_loader_fast)\n",
    "    print(f\"📈 Dropout Results (p={dropout_p}): best val acc={best_do['val_acc']:.4f}, final acc={report_do['accuracy']:.4f}\")\n",
    "    return model_do, hist_do, best_do, cm_do, report_do\n",
    "\n",
    "print(\"🧪 Testing dropout with different probabilities...\")\n",
    "dropout_results = {}\n",
    "\n",
    "for p in [0.0, 0.2, 0.4]:  # Uses your configured EPOCHS_DROPOUT\n",
    "    model_do, hist_do, best_do, cm_do, report_do = train_with_dropout(dropout_p=p)\n",
    "    dropout_results[p] = {\n",
    "        'best_val_acc': best_do['val_acc'],\n",
    "        'final_acc': report_do['accuracy'],\n",
    "        'model': model_do\n",
    "    }\n",
    "    print()\n",
    "\n",
    "best_p = max(dropout_results.keys(), key=lambda k: dropout_results[k]['best_val_acc'])\n",
    "print(f\"🏆 Best dropout p: {best_p} with accuracy: {dropout_results[best_p]['best_val_acc']:.4f}\")\n"
   ]
  },
  {
   "cell_type": "markdown",
   "id": "3834468a",
   "metadata": {},
   "source": [
    "## 8) Early Stopping\n",
    "Train the **same** MLP with early stopping. Tune patience and show curves."
   ]
  },
  {
   "cell_type": "code",
   "execution_count": 12,
   "id": "064ad080",
   "metadata": {},
   "outputs": [
    {
     "name": "stdout",
     "output_type": "stream",
     "text": [
      "🧪 Sweeping Early Stopping patience values...\n",
      "🔧 Training with Early Stopping (patience=5)\n",
      "\n",
      "================================================================================\n",
      "🚀 STARTING TRAINING - 40 epochs | LR: 0.001 | Batch Size: 512\n",
      "================================================================================\n",
      "Epoch  Train Loss   Train Acc  Valid Loss   Valid Acc  Best      \n",
      "--------------------------------------------------------------------------------\n"
     ]
    },
    {
     "name": "stderr",
     "output_type": "stream",
     "text": [
      "                                                                                         "
     ]
    },
    {
     "name": "stdout",
     "output_type": "stream",
     "text": [
      "1      0.7315       0.5338     0.6638       0.5976     ★ BEST    \n"
     ]
    },
    {
     "name": "stderr",
     "output_type": "stream",
     "text": [
      "                                                                                         "
     ]
    },
    {
     "name": "stdout",
     "output_type": "stream",
     "text": [
      "2      0.6611       0.6018     0.6755       0.5700               \n"
     ]
    },
    {
     "name": "stderr",
     "output_type": "stream",
     "text": [
      "                                                                                         "
     ]
    },
    {
     "name": "stdout",
     "output_type": "stream",
     "text": [
      "3      0.6403       0.6323     0.6327       0.6407     ★ BEST    \n"
     ]
    },
    {
     "name": "stderr",
     "output_type": "stream",
     "text": [
      "                                                                                         "
     ]
    },
    {
     "name": "stdout",
     "output_type": "stream",
     "text": [
      "4      0.6263       0.6453     0.6169       0.6569     ★ BEST    \n"
     ]
    },
    {
     "name": "stderr",
     "output_type": "stream",
     "text": [
      "                                                                                         "
     ]
    },
    {
     "name": "stdout",
     "output_type": "stream",
     "text": [
      "5      0.6112       0.6687     0.6086       0.6666     ★ BEST    \n"
     ]
    },
    {
     "name": "stderr",
     "output_type": "stream",
     "text": [
      "                                                                                         "
     ]
    },
    {
     "name": "stdout",
     "output_type": "stream",
     "text": [
      "6      0.6119       0.6648     0.6024       0.6758     ★ BEST    \n"
     ]
    },
    {
     "name": "stderr",
     "output_type": "stream",
     "text": [
      "                                                                                         "
     ]
    },
    {
     "name": "stdout",
     "output_type": "stream",
     "text": [
      "7      0.5979       0.6792     0.6080       0.6780     ★ BEST    \n"
     ]
    },
    {
     "name": "stderr",
     "output_type": "stream",
     "text": [
      "                                                                                         "
     ]
    },
    {
     "name": "stdout",
     "output_type": "stream",
     "text": [
      "8      0.5903       0.6872     0.5985       0.6794     ★ BEST    \n"
     ]
    },
    {
     "name": "stderr",
     "output_type": "stream",
     "text": [
      "                                                                                         "
     ]
    },
    {
     "name": "stdout",
     "output_type": "stream",
     "text": [
      "9      0.5893       0.6885     0.5998       0.6809     ★ BEST    \n"
     ]
    },
    {
     "name": "stderr",
     "output_type": "stream",
     "text": [
      "                                                                                          "
     ]
    },
    {
     "name": "stdout",
     "output_type": "stream",
     "text": [
      "10     0.5963       0.6763     0.6064       0.6714               \n"
     ]
    },
    {
     "name": "stderr",
     "output_type": "stream",
     "text": [
      "                                                                                          "
     ]
    },
    {
     "name": "stdout",
     "output_type": "stream",
     "text": [
      "11     0.5866       0.6866     0.6008       0.6794               \n"
     ]
    },
    {
     "name": "stderr",
     "output_type": "stream",
     "text": [
      "                                                                                          "
     ]
    },
    {
     "name": "stdout",
     "output_type": "stream",
     "text": [
      "12     0.5857       0.6902     0.6501       0.6276               \n"
     ]
    },
    {
     "name": "stderr",
     "output_type": "stream",
     "text": [
      "                                                                                          "
     ]
    },
    {
     "name": "stdout",
     "output_type": "stream",
     "text": [
      "13     0.5842       0.6863     0.6018       0.6823     ★ BEST    \n"
     ]
    },
    {
     "name": "stderr",
     "output_type": "stream",
     "text": [
      "                                                                                          "
     ]
    },
    {
     "name": "stdout",
     "output_type": "stream",
     "text": [
      "14     0.5810       0.6923     0.6273       0.6448               \n"
     ]
    },
    {
     "name": "stderr",
     "output_type": "stream",
     "text": [
      "                                                                                          "
     ]
    },
    {
     "name": "stdout",
     "output_type": "stream",
     "text": [
      "15     0.5810       0.6937     0.6030       0.6775               \n"
     ]
    },
    {
     "name": "stderr",
     "output_type": "stream",
     "text": [
      "                                                                                          "
     ]
    },
    {
     "name": "stdout",
     "output_type": "stream",
     "text": [
      "16     0.5705       0.6987     0.5945       0.6731               \n"
     ]
    },
    {
     "name": "stderr",
     "output_type": "stream",
     "text": [
      "                                                                                          "
     ]
    },
    {
     "name": "stdout",
     "output_type": "stream",
     "text": [
      "17     0.5739       0.6960     0.5996       0.6792               \n"
     ]
    },
    {
     "name": "stderr",
     "output_type": "stream",
     "text": [
      "                                                                                          "
     ]
    },
    {
     "name": "stdout",
     "output_type": "stream",
     "text": [
      "18     0.5632       0.7091     0.5829       0.6954     ★ BEST    \n"
     ]
    },
    {
     "name": "stderr",
     "output_type": "stream",
     "text": [
      "                                                                                          "
     ]
    },
    {
     "name": "stdout",
     "output_type": "stream",
     "text": [
      "19     0.5688       0.7048     0.5863       0.6954               \n"
     ]
    },
    {
     "name": "stderr",
     "output_type": "stream",
     "text": [
      "                                                                                          "
     ]
    },
    {
     "name": "stdout",
     "output_type": "stream",
     "text": [
      "20     0.5598       0.7070     0.5801       0.6927               \n"
     ]
    },
    {
     "name": "stderr",
     "output_type": "stream",
     "text": [
      "                                                                                          "
     ]
    },
    {
     "name": "stdout",
     "output_type": "stream",
     "text": [
      "21     0.5568       0.7120     0.6145       0.6555               \n"
     ]
    },
    {
     "name": "stderr",
     "output_type": "stream",
     "text": [
      "                                                                                          "
     ]
    },
    {
     "name": "stdout",
     "output_type": "stream",
     "text": [
      "22     0.5543       0.7158     0.5847       0.6949               \n"
     ]
    },
    {
     "name": "stderr",
     "output_type": "stream",
     "text": [
      "                                                                                          "
     ]
    },
    {
     "name": "stdout",
     "output_type": "stream",
     "text": [
      "23     0.5512       0.7171     0.5904       0.6867               \n",
      "\n",
      "Early stopping at epoch 23 (no improvement for 5 epochs)\n",
      "\n",
      "================================================================================\n",
      "Training completed! Best validation accuracy: 0.6954 at epoch 18\n",
      "================================================================================\n",
      "\n"
     ]
    },
    {
     "name": "stderr",
     "output_type": "stream",
     "text": [
      "\r"
     ]
    },
    {
     "name": "stdout",
     "output_type": "stream",
     "text": [
      "📈 ES Results (patience=5): best val acc=0.6954, final acc=0.6954\n",
      "\n",
      "🏆 Best ES patience: 5 with best val acc: 0.6954\n"
     ]
    }
   ],
   "source": [
    "# ✅ CORRECTED EARLY STOPPING SWEEP - Uses our fixed training/utilities\n",
    "\n",
    "def train_with_early_stopping(patience: int):\n",
    "    \"\"\"Train a model with Early Stopping using the recommended setup.\"\"\"\n",
    "    print(f\"🔧 Training with Early Stopping (patience={patience})\")\n",
    "    model_es = FFClassifier(hidden_layers=RECOMMENDED_ARCHITECTURE, activation=\"relu\", dropout=0.0)\n",
    "    model_es, hist_es, best_es = train_model_fixed(\n",
    "        model_es, train_loader_fast, valid_loader_fast,\n",
    "        lr=RECOMMENDED_LR, weight_decay=0.0,\n",
    "        max_epochs=EPOCHS_ES_MAX, early_stopping=True, patience=patience\n",
    "    )\n",
    "    _, _, _, cm_es, report_es = evaluate_on_loader(model_es, valid_loader_fast)\n",
    "    print(\n",
    "        f\"📈 ES Results (patience={patience}): best val acc={best_es['val_acc']:.4f}, \"\n",
    "        f\"final acc={report_es['accuracy']:.4f}\"\n",
    "    )\n",
    "    return model_es, hist_es, best_es, cm_es, report_es\n",
    "\n",
    "print(\"🧪 Sweeping Early Stopping patience values...\")\n",
    "es_results = {}\n",
    "\n",
    "\n",
    "model_es, hist_es, best_es, cm_es, report_es = train_with_early_stopping(5)\n",
    "es_results[5] = {\n",
    "        \"best_val_acc\": best_es[\"val_acc\"],\n",
    "        \"final_acc\": report_es[\"accuracy\"],\n",
    "        \"model\": model_es,\n",
    "    }\n",
    "print()\n",
    "\n",
    "best_patience = max(es_results.keys(), key=lambda k: es_results[k][\"best_val_acc\"])\n",
    "print(\n",
    "    f\"🏆 Best ES patience: {best_patience} with best val acc: \"\n",
    "    f\"{es_results[best_patience]['best_val_acc']:.4f}\"\n",
    ")\n"
   ]
  },
  {
   "cell_type": "markdown",
   "id": "58f1fd2f",
   "metadata": {},
   "source": [
    "## 9) Validation Summary (Fixed Architecture)\n",
    "Show a compact table comparing **baseline vs L2 vs Dropout vs Early-Stop** validation metrics for the *same* MLP architecture."
   ]
  },
  {
   "cell_type": "code",
   "execution_count": 13,
   "id": "81e912ac",
   "metadata": {},
   "outputs": [
    {
     "name": "stdout",
     "output_type": "stream",
     "text": [
      "Baseline (FAST):\n"
     ]
    },
    {
     "data": {
      "text/html": [
       "<div>\n",
       "<style scoped>\n",
       "    .dataframe tbody tr th:only-of-type {\n",
       "        vertical-align: middle;\n",
       "    }\n",
       "\n",
       "    .dataframe tbody tr th {\n",
       "        vertical-align: top;\n",
       "    }\n",
       "\n",
       "    .dataframe thead th {\n",
       "        text-align: right;\n",
       "    }\n",
       "</style>\n",
       "<table border=\"1\" class=\"dataframe\">\n",
       "  <thead>\n",
       "    <tr style=\"text-align: right;\">\n",
       "      <th></th>\n",
       "      <th>variant</th>\n",
       "      <th>best_val_acc</th>\n",
       "      <th>final_acc</th>\n",
       "      <th>hidden_layers</th>\n",
       "      <th>lr</th>\n",
       "    </tr>\n",
       "  </thead>\n",
       "  <tbody>\n",
       "    <tr>\n",
       "      <th>0</th>\n",
       "      <td>baseline_fast</td>\n",
       "      <td>0.703363</td>\n",
       "      <td>0.703363</td>\n",
       "      <td>[256, 128]</td>\n",
       "      <td>0.001</td>\n",
       "    </tr>\n",
       "  </tbody>\n",
       "</table>\n",
       "</div>"
      ],
      "text/plain": [
       "         variant  best_val_acc  final_acc hidden_layers     lr\n",
       "0  baseline_fast      0.703363   0.703363    [256, 128]  0.001"
      ]
     },
     "metadata": {},
     "output_type": "display_data"
    },
    {
     "name": "stdout",
     "output_type": "stream",
     "text": [
      "L2 sweep:\n"
     ]
    },
    {
     "data": {
      "text/html": [
       "<div>\n",
       "<style scoped>\n",
       "    .dataframe tbody tr th:only-of-type {\n",
       "        vertical-align: middle;\n",
       "    }\n",
       "\n",
       "    .dataframe tbody tr th {\n",
       "        vertical-align: top;\n",
       "    }\n",
       "\n",
       "    .dataframe thead th {\n",
       "        text-align: right;\n",
       "    }\n",
       "</style>\n",
       "<table border=\"1\" class=\"dataframe\">\n",
       "  <thead>\n",
       "    <tr style=\"text-align: right;\">\n",
       "      <th></th>\n",
       "      <th>weight_decay</th>\n",
       "      <th>best_val_acc</th>\n",
       "      <th>final_acc</th>\n",
       "    </tr>\n",
       "  </thead>\n",
       "  <tbody>\n",
       "    <tr>\n",
       "      <th>0</th>\n",
       "      <td>0.00001</td>\n",
       "      <td>0.703605</td>\n",
       "      <td>0.703605</td>\n",
       "    </tr>\n",
       "  </tbody>\n",
       "</table>\n",
       "</div>"
      ],
      "text/plain": [
       "   weight_decay  best_val_acc  final_acc\n",
       "0       0.00001      0.703605   0.703605"
      ]
     },
     "metadata": {},
     "output_type": "display_data"
    },
    {
     "name": "stdout",
     "output_type": "stream",
     "text": [
      "Dropout sweep:\n"
     ]
    },
    {
     "data": {
      "text/html": [
       "<div>\n",
       "<style scoped>\n",
       "    .dataframe tbody tr th:only-of-type {\n",
       "        vertical-align: middle;\n",
       "    }\n",
       "\n",
       "    .dataframe tbody tr th {\n",
       "        vertical-align: top;\n",
       "    }\n",
       "\n",
       "    .dataframe thead th {\n",
       "        text-align: right;\n",
       "    }\n",
       "</style>\n",
       "<table border=\"1\" class=\"dataframe\">\n",
       "  <thead>\n",
       "    <tr style=\"text-align: right;\">\n",
       "      <th></th>\n",
       "      <th>dropout</th>\n",
       "      <th>best_val_acc</th>\n",
       "      <th>final_acc</th>\n",
       "    </tr>\n",
       "  </thead>\n",
       "  <tbody>\n",
       "    <tr>\n",
       "      <th>0</th>\n",
       "      <td>0.0</td>\n",
       "      <td>0.700460</td>\n",
       "      <td>0.700460</td>\n",
       "    </tr>\n",
       "    <tr>\n",
       "      <th>1</th>\n",
       "      <td>0.2</td>\n",
       "      <td>0.687394</td>\n",
       "      <td>0.687394</td>\n",
       "    </tr>\n",
       "  </tbody>\n",
       "</table>\n",
       "</div>"
      ],
      "text/plain": [
       "   dropout  best_val_acc  final_acc\n",
       "0      0.0      0.700460   0.700460\n",
       "1      0.2      0.687394   0.687394"
      ]
     },
     "metadata": {},
     "output_type": "display_data"
    },
    {
     "name": "stdout",
     "output_type": "stream",
     "text": [
      "Early Stopping sweep:\n"
     ]
    },
    {
     "data": {
      "text/html": [
       "<div>\n",
       "<style scoped>\n",
       "    .dataframe tbody tr th:only-of-type {\n",
       "        vertical-align: middle;\n",
       "    }\n",
       "\n",
       "    .dataframe tbody tr th {\n",
       "        vertical-align: top;\n",
       "    }\n",
       "\n",
       "    .dataframe thead th {\n",
       "        text-align: right;\n",
       "    }\n",
       "</style>\n",
       "<table border=\"1\" class=\"dataframe\">\n",
       "  <thead>\n",
       "    <tr style=\"text-align: right;\">\n",
       "      <th></th>\n",
       "      <th>patience</th>\n",
       "      <th>best_val_acc</th>\n",
       "      <th>final_acc</th>\n",
       "    </tr>\n",
       "  </thead>\n",
       "  <tbody>\n",
       "    <tr>\n",
       "      <th>0</th>\n",
       "      <td>5</td>\n",
       "      <td>0.695379</td>\n",
       "      <td>0.695379</td>\n",
       "    </tr>\n",
       "  </tbody>\n",
       "</table>\n",
       "</div>"
      ],
      "text/plain": [
       "   patience  best_val_acc  final_acc\n",
       "0         5      0.695379   0.695379"
      ]
     },
     "metadata": {},
     "output_type": "display_data"
    }
   ],
   "source": [
    "import pandas as pd\n",
    "\n",
    "# Summaries aligned to variables created in this notebook\n",
    "\n",
    "# Baseline (FAST) summary\n",
    "rows = []\n",
    "if 'best_fast' in globals():\n",
    "    rows.append({\n",
    "        'variant': 'baseline_fast',\n",
    "        'best_val_acc': best_fast.get('val_acc', None),\n",
    "        'final_acc': (report_fast['accuracy'] if 'report_fast' in globals() else None),\n",
    "        'hidden_layers': RECOMMENDED_ARCHITECTURE,\n",
    "        'lr': RECOMMENDED_LR,\n",
    "    })\n",
    "\n",
    "# L2 table\n",
    "if 'l2_results' in globals() and isinstance(l2_results, dict) and len(l2_results) > 0:\n",
    "    df_l2 = pd.DataFrame([\n",
    "        {'weight_decay': wd,\n",
    "         'best_val_acc': vals['best_val_acc'],\n",
    "         'final_acc': vals['final_acc']}\n",
    "        for wd, vals in l2_results.items()\n",
    "    ]).sort_values('best_val_acc', ascending=False).reset_index(drop=True)\n",
    "else:\n",
    "    df_l2 = pd.DataFrame()\n",
    "\n",
    "# Dropout table\n",
    "if 'dropout_results' in globals() and isinstance(dropout_results, dict) and len(dropout_results) > 0:\n",
    "    df_do = pd.DataFrame([\n",
    "        {'dropout': p,\n",
    "         'best_val_acc': vals['best_val_acc'],\n",
    "         'final_acc': vals['final_acc']}\n",
    "        for p, vals in dropout_results.items()\n",
    "    ]).sort_values('best_val_acc', ascending=False).reset_index(drop=True)\n",
    "else:\n",
    "    df_do = pd.DataFrame()\n",
    "\n",
    "# Early Stopping table\n",
    "if 'es_results' in globals() and isinstance(es_results, dict) and len(es_results) > 0:\n",
    "    df_es = pd.DataFrame([\n",
    "        {'patience': p,\n",
    "         'best_val_acc': vals['best_val_acc'],\n",
    "         'final_acc': vals['final_acc']}\n",
    "        for p, vals in es_results.items()\n",
    "    ]).sort_values('best_val_acc', ascending=False).reset_index(drop=True)\n",
    "else:\n",
    "    df_es = pd.DataFrame()\n",
    "\n",
    "# Baseline table\n",
    "df_base = pd.DataFrame(rows)\n",
    "\n",
    "print('Baseline (FAST):')\n",
    "display(df_base if not df_base.empty else pd.DataFrame({'info':['not run']}))\n",
    "print('L2 sweep:')\n",
    "display(df_l2 if not df_l2.empty else pd.DataFrame({'info':['not run']}))\n",
    "print('Dropout sweep:')\n",
    "display(df_do if not df_do.empty else pd.DataFrame({'info':['not run']}))\n",
    "print('Early Stopping sweep:')\n",
    "display(df_es if not df_es.empty else pd.DataFrame({'info':['not run']}))\n"
   ]
  },
  {
   "cell_type": "code",
   "execution_count": 14,
   "id": "7d0f9436",
   "metadata": {},
   "outputs": [
    {
     "name": "stdout",
     "output_type": "stream",
     "text": [
      "Saved bar plot to: D:\\GMU Courses\\Sem-3\\DL\\Assignments\\Malaria_dataset\\outputs_ff\\variant_comparison_barplot.png\n"
     ]
    },
    {
     "data": {
      "image/png": "[encoded data removed]",
      "text/plain": [
       "<Figure size 800x500 with 1 Axes>"
      ]
     },
     "metadata": {},
     "output_type": "display_data"
    }
   ],
   "source": [
    "# 📊 Compare four model variants in one bar plot (best validation accuracy)\n",
    "\n",
    "variants = []\n",
    "\n",
    "# Baseline (FAST)\n",
    "if 'best_fast' in globals() and isinstance(best_fast, dict) and 'val_acc' in best_fast:\n",
    "    variants.append({'name': 'Baseline', 'best_val_acc': float(best_fast['val_acc'])})\n",
    "\n",
    "# L2 sweep (pick best)\n",
    "if 'l2_results' in globals() and isinstance(l2_results, dict) and len(l2_results) > 0:\n",
    "    best_wd = max(l2_results.keys(), key=lambda k: l2_results[k]['best_val_acc'])\n",
    "    variants.append({'name': f\"L2 (wd={best_wd:g})\", 'best_val_acc': float(l2_results[best_wd]['best_val_acc'])})\n",
    "\n",
    "# Dropout sweep (pick best)\n",
    "if 'dropout_results' in globals() and isinstance(dropout_results, dict) and len(dropout_results) > 0:\n",
    "    best_p = max(dropout_results.keys(), key=lambda k: dropout_results[k]['best_val_acc'])\n",
    "    variants.append({'name': f\"Dropout (p={best_p:.2f})\", 'best_val_acc': float(dropout_results[best_p]['best_val_acc'])})\n",
    "\n",
    "# Early Stopping sweep (pick best)\n",
    "if 'es_results' in globals() and isinstance(es_results, dict) and len(es_results) > 0:\n",
    "    best_pat = max(es_results.keys(), key=lambda k: es_results[k]['best_val_acc'])\n",
    "    variants.append({'name': f\"EarlyStop (pat={best_pat})\", 'best_val_acc': float(es_results[best_pat]['best_val_acc'])})\n",
    "\n",
    "import matplotlib.pyplot as plt\n",
    "\n",
    "if len(variants) == 0:\n",
    "    print('No results found to plot. Run the training/sweeps first.')\n",
    "else:\n",
    "    labels = [v['name'] for v in variants]\n",
    "    accs   = [v['best_val_acc'] for v in variants]\n",
    "\n",
    "    plt.figure(figsize=(8, 5))\n",
    "    bars = plt.bar(labels, accs, color=['#4e79a7', '#59a14f', '#f28e2b', '#e15759'][:len(labels)])\n",
    "    plt.ylabel('Best Validation Accuracy')\n",
    "    plt.ylim(0.0, 1.0)\n",
    "    plt.title('Comparison of Model Variants (Best Val Acc)')\n",
    "    plt.grid(axis='y', linestyle='--', alpha=0.3)\n",
    "\n",
    "    for bar, val in zip(bars, accs):\n",
    "        plt.text(bar.get_x() + bar.get_width()/2.0, val + 0.01, f\"{val:.3f}\", ha='center', va='bottom', fontsize=10)\n",
    "\n",
    "    plt.tight_layout()\n",
    "    try:\n",
    "        os.makedirs(OUT_DIR, exist_ok=True)\n",
    "        out_path = os.path.join(OUT_DIR, 'variant_comparison_barplot.png')\n",
    "        plt.savefig(out_path, dpi=150)\n",
    "        print(f\"Saved bar plot to: {out_path}\")\n",
    "    except Exception as e:\n",
    "        print(f\"Could not save plot: {e}\")\n",
    "    plt.show()\n"
   ]
  },
  {
   "cell_type": "markdown",
   "id": "00e3a309",
   "metadata": {},
   "source": [
    "## 10) Final Test Evaluation\n",
    "Retrain each best-regularized variant on **train+valid**, then evaluate once on **test**.  \n",
    "Save a bar chart of test accuracy (and/or F1) across the four runs."
   ]
  },
  {
   "cell_type": "code",
   "execution_count": 15,
   "id": "cab16614",
   "metadata": {},
   "outputs": [
    {
     "name": "stdout",
     "output_type": "stream",
     "text": [
      "Saved comparison plot to: D:\\GMU Courses\\Sem-3\\DL\\Assignments\\Malaria_dataset\\outputs_ff\\accuracy_f1_comparison.png\n"
     ]
    },
    {
     "data": {
      "image/png": "[encoded data removed]",
      "text/plain": [
       "<Figure size 1000x600 with 1 Axes>"
      ]
     },
     "metadata": {},
     "output_type": "display_data"
    },
    {
     "name": "stdout",
     "output_type": "stream",
     "text": [
      "\n",
      "📊 Model Performance Summary:\n",
      "------------------------------------------------------------\n",
      "Model                Accuracy   F1 Score  \n",
      "------------------------------------------------------------\n",
      "m1 Base              0.7034     0.7102    \n",
      "m2 L2 Regularization 0.7036     0.7154    \n",
      "m3 Dropout           0.7005     0.7084    \n",
      "m4 Early Stop        0.6954     0.6992    \n",
      "------------------------------------------------------------\n"
     ]
    }
   ],
   "source": [
    "# 📊 Calculate F1 Scores and create Accuracy & F1 comparison bar plot\n",
    "\n",
    "from sklearn.metrics import f1_score\n",
    "import matplotlib.pyplot as plt\n",
    "import numpy as np\n",
    "\n",
    "def calculate_f1_score(model, loader):\n",
    "    \"\"\"Calculate F1 score for a model on given data loader\"\"\"\n",
    "    model.eval()\n",
    "    all_preds, all_labels = [], []\n",
    "    \n",
    "    with torch.no_grad():\n",
    "        for x, y in loader:\n",
    "            x = x.to(device)\n",
    "            logits = model(x)\n",
    "            probs = torch.sigmoid(logits)\n",
    "            preds = (probs >= 0.5).long().cpu().numpy()\n",
    "            all_preds.extend(preds)\n",
    "            all_labels.extend(y.numpy())\n",
    "    \n",
    "    return f1_score(all_labels, all_preds)\n",
    "\n",
    "# Collect results for all variants\n",
    "results = []\n",
    "\n",
    "# Baseline (FAST)\n",
    "if 'model_fast' in globals() and 'report_fast' in globals():\n",
    "    f1_baseline = calculate_f1_score(model_fast, valid_loader_fast)\n",
    "    results.append({\n",
    "        'model': 'm1 Base',\n",
    "        'accuracy': report_fast['accuracy'],\n",
    "        'f1_score': f1_baseline\n",
    "    })\n",
    "\n",
    "# L2 (best)\n",
    "if 'l2_results' in globals() and len(l2_results) > 0:\n",
    "    best_wd = max(l2_results.keys(), key=lambda k: l2_results[k]['best_val_acc'])\n",
    "    best_l2_model = l2_results[best_wd]['model']\n",
    "    f1_l2 = calculate_f1_score(best_l2_model, valid_loader_fast)\n",
    "    results.append({\n",
    "        'model': 'm2 L2 Regularization',\n",
    "        'accuracy': l2_results[best_wd]['final_acc'],\n",
    "        'f1_score': f1_l2\n",
    "    })\n",
    "\n",
    "# Dropout (best)\n",
    "if 'dropout_results' in globals() and len(dropout_results) > 0:\n",
    "    best_p = max(dropout_results.keys(), key=lambda k: dropout_results[k]['best_val_acc'])\n",
    "    best_dropout_model = dropout_results[best_p]['model']\n",
    "    f1_dropout = calculate_f1_score(best_dropout_model, valid_loader_fast)\n",
    "    results.append({\n",
    "        'model': 'm3 Dropout',\n",
    "        'accuracy': dropout_results[best_p]['final_acc'],\n",
    "        'f1_score': f1_dropout\n",
    "    })\n",
    "\n",
    "# Early Stopping (best)\n",
    "if 'es_results' in globals() and len(es_results) > 0:\n",
    "    best_pat = max(es_results.keys(), key=lambda k: es_results[k]['best_val_acc'])\n",
    "    best_es_model = es_results[best_pat]['model']\n",
    "    f1_es = calculate_f1_score(best_es_model, valid_loader_fast)\n",
    "    results.append({\n",
    "        'model': 'm4 Early Stop',\n",
    "        'accuracy': es_results[best_pat]['final_acc'],\n",
    "        'f1_score': f1_es\n",
    "    })\n",
    "\n",
    "if len(results) == 0:\n",
    "    print(\"No model results found. Run the training cells first.\")\n",
    "else:\n",
    "    # Create the bar plot\n",
    "    models = [r['model'] for r in results]\n",
    "    accuracies = [r['accuracy'] for r in results]\n",
    "    f1_scores = [r['f1_score'] for r in results]\n",
    "    \n",
    "    x = np.arange(len(models))\n",
    "    width = 0.35\n",
    "    \n",
    "    fig, ax = plt.subplots(figsize=(10, 6))\n",
    "    \n",
    "    bars1 = ax.bar(x - width/2, accuracies, width, label='Accuracy', color='#1f77b4', alpha=0.8)\n",
    "    bars2 = ax.bar(x + width/2, f1_scores, width, label='F1 Score', color='#ff7f0e', alpha=0.8)\n",
    "    \n",
    "    ax.set_xlabel('Models')\n",
    "    ax.set_ylabel('Score')\n",
    "    ax.set_title('Accuracy and F1 by Model')\n",
    "    ax.set_xticks(x)\n",
    "    ax.set_xticklabels(models)\n",
    "    ax.legend()\n",
    "    ax.grid(axis='y', alpha=0.3)\n",
    "    \n",
    "    # Add value labels on bars\n",
    "    def add_value_labels(bars):\n",
    "        for bar in bars:\n",
    "            height = bar.get_height()\n",
    "            ax.annotate(f'{height:.4f}',\n",
    "                       xy=(bar.get_x() + bar.get_width() / 2, height),\n",
    "                       xytext=(0, 3),  # 3 points vertical offset\n",
    "                       textcoords=\"offset points\",\n",
    "                       ha='center', va='bottom', fontsize=9)\n",
    "    \n",
    "    add_value_labels(bars1)\n",
    "    add_value_labels(bars2)\n",
    "    \n",
    "    # Set y-axis limits to show differences better\n",
    "    all_values = accuracies + f1_scores\n",
    "    y_min = min(all_values) - 0.005\n",
    "    y_max = max(all_values) + 0.005\n",
    "    ax.set_ylim(y_min, y_max)\n",
    "    \n",
    "    plt.tight_layout()\n",
    "    \n",
    "    # Save the plot\n",
    "    try:\n",
    "        os.makedirs(OUT_DIR, exist_ok=True)\n",
    "        out_path = os.path.join(OUT_DIR, 'accuracy_f1_comparison.png')\n",
    "        plt.savefig(out_path, dpi=150, bbox_inches='tight')\n",
    "        print(f\"Saved comparison plot to: {out_path}\")\n",
    "    except Exception as e:\n",
    "        print(f\"Could not save plot: {e}\")\n",
    "    \n",
    "    plt.show()\n",
    "    \n",
    "    # Print summary table\n",
    "    print(\"\\n📊 Model Performance Summary:\")\n",
    "    print(\"-\" * 60)\n",
    "    print(f\"{'Model':<20} {'Accuracy':<10} {'F1 Score':<10}\")\n",
    "    print(\"-\" * 60)\n",
    "    for r in results:\n",
    "        print(f\"{r['model']:<20} {r['accuracy']:<10.4f} {r['f1_score']:<10.4f}\")\n",
    "    print(\"-\" * 60)\n"
   ]
  },
  {
   "cell_type": "markdown",
   "id": "6c498be8",
   "metadata": {},
   "source": [
    "# Extra Credit: SVM on 1D Pixels\n",
    "\n",
    "## EC1) Imports & Logging\n",
    "Set up scikit-learn, lightweight logging, and utility I/O."
   ]
  },
  {
   "cell_type": "code",
   "execution_count": 7,
   "id": "438a34f5",
   "metadata": {},
   "outputs": [
    {
     "name": "stdout",
     "output_type": "stream",
     "text": [
      "[16:41:40] Python 3.12.1 | NumPy 2.1.2\n",
      "[16:41:40] scikit-learn 1.7.2\n",
      "[16:41:40] BLAS threads: [{'user_api': 'blas', 'internal_api': 'openblas', 'num_threads': 16, 'prefix': 'libscipy_openblas', 'filepath': 'D:\\\\GMU Courses\\\\Sem-3\\\\DL\\\\Assignments\\\\Malaria_dataset\\\\myenv\\\\Lib\\\\site-packages\\\\numpy.libs\\\\libscipy_openblas64_-c16e4918366c6bc1f1cd71e28ca36fc0.dll', 'version': '0.3.27', 'threading_layer': 'pthreads', 'architecture': 'Haswell'}, {'user_api': 'openmp', 'internal_api': 'openmp', 'num_threads': 8, 'prefix': 'libiomp', 'filepath': 'D:\\\\GMU Courses\\\\Sem-3\\\\DL\\\\Assignments\\\\Malaria_dataset\\\\myenv\\\\Lib\\\\site-packages\\\\torch\\\\lib\\\\libiomp5md.dll', 'version': None}, {'user_api': 'openmp', 'internal_api': 'openmp', 'num_threads': 1, 'prefix': 'libiomp', 'filepath': 'D:\\\\GMU Courses\\\\Sem-3\\\\DL\\\\Assignments\\\\Malaria_dataset\\\\myenv\\\\Lib\\\\site-packages\\\\torch\\\\lib\\\\libiompstubs5md.dll', 'version': None}, {'user_api': 'openmp', 'internal_api': 'openmp', 'num_threads': 16, 'prefix': 'vcomp', 'filepath': 'D:\\\\GMU Courses\\\\Sem-3\\\\DL\\\\Assignments\\\\Malaria_dataset\\\\myenv\\\\Lib\\\\site-packages\\\\sklearn\\\\.libs\\\\vcomp140.dll', 'version': None}, {'user_api': 'blas', 'internal_api': 'openblas', 'num_threads': 16, 'prefix': 'libscipy_openblas', 'filepath': 'D:\\\\GMU Courses\\\\Sem-3\\\\DL\\\\Assignments\\\\Malaria_dataset\\\\myenv\\\\Lib\\\\site-packages\\\\scipy.libs\\\\libscipy_openblas-48c358d105077551cc9cc3ba79387ed5.dll', 'version': '0.3.29.dev', 'threading_layer': 'pthreads', 'architecture': 'Haswell'}]\n",
      "[16:41:40] CPU: AMD64 Family 25 Model 80 Stepping 0, AuthenticAMD | RAM ~16.5 GB\n"
     ]
    }
   ],
   "source": [
    "# === Extra Credit — FAST SVM: PCA(→256) + RBF SVM with logging ===\n",
    "\n",
    "import os, time, json, math, psutil, platform\n",
    "import numpy as np\n",
    "import matplotlib.pyplot as plt\n",
    "\n",
    "from sklearn.metrics import classification_report, confusion_matrix, accuracy_score\n",
    "from sklearn.preprocessing import StandardScaler\n",
    "from sklearn.decomposition import PCA\n",
    "from sklearn.svm import SVC\n",
    "from sklearn.model_selection import GridSearchCV\n",
    "from sklearn.utils import shuffle as sk_shuffle\n",
    "\n",
    "from torch.utils.data import DataLoader\n",
    "from tqdm import tqdm\n",
    "\n",
    "# ---- simple timestamped logger ----\n",
    "def log(msg):\n",
    "    t = time.strftime(\"%H:%M:%S\")\n",
    "    print(f\"[{t}] {msg}\")\n",
    "\n",
    "def save_json(obj, path):\n",
    "    with open(path, \"w\") as f:\n",
    "        json.dump(obj, f, indent=2)\n",
    "\n",
    "# ---- show system info once ----\n",
    "log(f\"Python {platform.python_version()} | NumPy {np.__version__}\")\n",
    "try:\n",
    "    import sklearn\n",
    "    log(f\"scikit-learn {sklearn.__version__}\")\n",
    "except Exception:\n",
    "    pass\n",
    "try:\n",
    "    import threadpoolctl\n",
    "    log(f\"BLAS threads: {threadpoolctl.threadpool_info()}\")\n",
    "except Exception:\n",
    "    pass\n",
    "log(f\"CPU: {platform.processor()} | RAM ~{round(psutil.virtual_memory().total/1e9,1)} GB\")\n"
   ]
  },
  {
   "cell_type": "markdown",
   "id": "f21fa52e",
   "metadata": {},
   "source": [
    "## EC2) Flatten to NumPy\n",
    "Convert `train/valid/test` tensors to NumPy arrays of shape `(N, 12288)` with progress logs."
   ]
  },
  {
   "cell_type": "code",
   "execution_count": 11,
   "id": "c88dbf14",
   "metadata": {},
   "outputs": [
    {
     "name": "stdout",
     "output_type": "stream",
     "text": [
      "[16:42:32] Building numpy arrays from datasets …\n"
     ]
    },
    {
     "name": "stderr",
     "output_type": "stream",
     "text": [
      "                                                          "
     ]
    },
    {
     "name": "stdout",
     "output_type": "stream",
     "text": [
      "[16:46:00] Done in 208.4s\n",
      "[16:46:00] Shapes → train (19291, 12288), valid (4133, 12288), test (4134, 12288)\n",
      "[16:46:00] Approx RAM for X arrays: 1.26 GiB\n"
     ]
    },
    {
     "name": "stderr",
     "output_type": "stream",
     "text": [
      "\r"
     ]
    }
   ],
   "source": [
    "# Uses your existing BATCH_SIZE and the three *ds datasets\n",
    "EC_NUM_WORKERS = 0  # set 2–4 if you want; 0 is safest/portable\n",
    "\n",
    "def ds_to_numpy(ds, batch_size=2048, num_workers=0):\n",
    "    \"\"\"Stream a torchvision dataset into a (X, y) numpy pair with progress & no folder changes.\"\"\"\n",
    "    dl = DataLoader(ds, batch_size=batch_size, shuffle=False,\n",
    "                    num_workers=num_workers, pin_memory=False)\n",
    "    X_parts, y_parts = [], []\n",
    "    for xb, yb in tqdm(dl, desc=\"→ loading\", leave=False):\n",
    "        X_parts.append(xb.view(xb.size(0), -1).numpy().astype(np.float32))  # [B, 12288]\n",
    "        y_parts.append(yb.numpy().astype(np.int32))\n",
    "    X = np.concatenate(X_parts, axis=0)\n",
    "    y = np.concatenate(y_parts, axis=0)\n",
    "    return X, y\n",
    "\n",
    "t0 = time.perf_counter()\n",
    "log(\"Building numpy arrays from datasets …\")\n",
    "X_train, y_train = ds_to_numpy(train_ds, batch_size=max(1024, BATCH_SIZE), num_workers=EC_NUM_WORKERS)\n",
    "X_valid, y_valid = ds_to_numpy(valid_ds, batch_size=max(1024, BATCH_SIZE), num_workers=EC_NUM_WORKERS)\n",
    "X_test,  y_test  = ds_to_numpy(test_ds,  batch_size=max(1024, BATCH_SIZE), num_workers=EC_NUM_WORKERS)\n",
    "\n",
    "log(f\"Done in {time.perf_counter()-t0:.1f}s\")\n",
    "log(f\"Shapes → train {X_train.shape}, valid {X_valid.shape}, test {X_test.shape}\")\n",
    "\n",
    "est_bytes = (X_train.nbytes + X_valid.nbytes + X_test.nbytes) / (1024**3)\n",
    "log(f\"Approx RAM for X arrays: {est_bytes:.2f} GiB\")\n"
   ]
  },
  {
   "cell_type": "markdown",
   "id": "72cf0b62",
   "metadata": {},
   "source": [
    "## EC3) Standardize + PCA (Fixed)\n",
    "Standardize features (fit on train only) and apply **PCA=256** to speed up SVM while preserving variance."
   ]
  },
  {
   "cell_type": "code",
   "execution_count": 12,
   "id": "cd079b27",
   "metadata": {},
   "outputs": [
    {
     "name": "stdout",
     "output_type": "stream",
     "text": [
      "[16:47:09] Standardizing (z-score) …\n",
      "[16:47:13] Scaler fit+transform in 3.6s\n",
      "[16:47:13] Fitting PCA to 256 components (randomized) …\n",
      "[16:47:26] PCA done in 13.0s | explained variance ≈ 0.921\n",
      "[16:47:26] Shapes after PCA → train (19291, 256), valid (4133, 256), test (4134, 256)\n"
     ]
    }
   ],
   "source": [
    "# We standardize once on TRAIN only, apply to VALID/TEST\n",
    "log(\"Standardizing (z-score) …\")\n",
    "scaler = StandardScaler(with_mean=True, with_std=True)\n",
    "t0 = time.perf_counter()\n",
    "X_train_std = scaler.fit_transform(X_train)\n",
    "X_valid_std = scaler.transform(X_valid)\n",
    "X_test_std  = scaler.transform(X_test)\n",
    "log(f\"Scaler fit+transform in {time.perf_counter()-t0:.1f}s\")\n",
    "\n",
    "# PCA outside CV so we don't recompute per fold\n",
    "PCA_DIM = 256  # 256–384 are good; 256 is fast & accurate enough for this dataset\n",
    "log(f\"Fitting PCA to {PCA_DIM} components (randomized) …\")\n",
    "t0 = time.perf_counter()\n",
    "pca = PCA(n_components=PCA_DIM, svd_solver=\"randomized\", whiten=False, random_state=42)\n",
    "X_train_pca = pca.fit_transform(X_train_std)\n",
    "X_valid_pca = pca.transform(X_valid_std)\n",
    "X_test_pca  = pca.transform(X_test_std)\n",
    "dt = time.perf_counter()-t0\n",
    "expl = float(np.sum(pca.explained_variance_ratio_))\n",
    "log(f\"PCA done in {dt:.1f}s | explained variance ≈ {expl:.3f}\")\n",
    "\n",
    "log(f\"Shapes after PCA → train {X_train_pca.shape}, valid {X_valid_pca.shape}, test {X_test_pca.shape}\")\n"
   ]
  },
  {
   "cell_type": "markdown",
   "id": "fb49b16e",
   "metadata": {},
   "source": [
    "## EC4) RBF SVM (Small Grid)\n",
    "Run a small GridSearch over `C` and `gamma` on PCA features (with verbose logs).  \n",
    "Report best params and validation performance."
   ]
  },
  {
   "cell_type": "code",
   "execution_count": 13,
   "id": "649adc46",
   "metadata": {},
   "outputs": [
    {
     "name": "stdout",
     "output_type": "stream",
     "text": [
      "[16:47:32] GridSearchCV on RBF SVM (small grid) …\n",
      "Fitting 3 folds for each of 12 candidates, totalling 36 fits\n",
      "[17:00:29] GridSearch done in 12.9 minutes\n",
      "[17:00:29] Best params: {'C': 4, 'gamma': 'scale'} | Best CV score: 0.6632\n",
      "[17:00:38] Validation accuracy (best RBF): 0.7580 | infer 9.45s\n",
      "Validation report (best RBF):\n",
      "               precision    recall  f1-score   support\n",
      "\n",
      " Parasitized       0.76      0.75      0.76      2067\n",
      "  Uninfected       0.75      0.77      0.76      2066\n",
      "\n",
      "    accuracy                           0.76      4133\n",
      "   macro avg       0.76      0.76      0.76      4133\n",
      "weighted avg       0.76      0.76      0.76      4133\n",
      "\n"
     ]
    }
   ],
   "source": [
    "# Tiny grid; tune only on TRAIN with 3-fold CV using PCA features\n",
    "# (We don't include scaler/pca in the pipeline since we already applied them above.)\n",
    "log(\"GridSearchCV on RBF SVM (small grid) …\")\n",
    "\n",
    "param_grid = {\n",
    "    \"C\":     [0.5, 1, 2, 4],\n",
    "    \"gamma\": [\"scale\", 0.001, 0.0005],\n",
    "}\n",
    "\n",
    "svc = SVC(kernel=\"rbf\", cache_size=2000, shrinking=True)  # cache helps; shrinking usually faster\n",
    "\n",
    "grid = GridSearchCV(\n",
    "    estimator=svc,\n",
    "    param_grid=param_grid,\n",
    "    cv=3,\n",
    "    n_jobs=-1,\n",
    "    verbose=2,   # detailed fold-level logs\n",
    "    return_train_score=False\n",
    ")\n",
    "\n",
    "t0 = time.perf_counter()\n",
    "grid.fit(X_train_pca, y_train)\n",
    "dt = time.perf_counter() - t0\n",
    "\n",
    "log(f\"GridSearch done in {dt/60:.1f} minutes\")\n",
    "log(f\"Best params: {grid.best_params_} | Best CV score: {grid.best_score_:.4f}\")\n",
    "\n",
    "# Validation performance (holdout)\n",
    "t1 = time.perf_counter()\n",
    "y_valid_pred = grid.predict(X_valid_pca)\n",
    "acc_valid = accuracy_score(y_valid, y_valid_pred)\n",
    "log(f\"Validation accuracy (best RBF): {acc_valid:.4f} | infer {time.perf_counter()-t1:.2f}s\")\n",
    "print(\"Validation report (best RBF):\\n\",\n",
    "      classification_report(y_valid, y_valid_pred, target_names=[\"Parasitized\",\"Uninfected\"]))\n"
   ]
  },
  {
   "cell_type": "markdown",
   "id": "85a07112",
   "metadata": {},
   "source": [
    "## EC5) Test the Best SVM\n",
    "Evaluate best SVM on the test set. Save JSON with metrics and confusion matrix."
   ]
  },
  {
   "cell_type": "code",
   "execution_count": 14,
   "id": "9d7488b8",
   "metadata": {},
   "outputs": [
    {
     "name": "stdout",
     "output_type": "stream",
     "text": [
      "[17:03:56] TEST accuracy (best RBF): 0.7654 | inference time 9.72s\n",
      "Confusion Matrix (SVM):\n",
      " [[1565  502]\n",
      " [ 468 1599]]\n",
      "[17:03:56] SVM results saved → D:\\GMU Courses\\Sem-3\\DL\\Assignments\\Malaria_dataset\\outputs_ff\\svm_pca_rbf_results.json\n"
     ]
    }
   ],
   "source": [
    "# Evaluate once on TEST with the best estimator\n",
    "best_svm = grid.best_estimator_\n",
    "\n",
    "t0 = time.perf_counter()\n",
    "y_test_pred = best_svm.predict(X_test_pca)\n",
    "test_dt = time.perf_counter() - t0\n",
    "acc_test = accuracy_score(y_test, y_test_pred)\n",
    "\n",
    "log(f\"TEST accuracy (best RBF): {acc_test:.4f} | inference time {test_dt:.2f}s\")\n",
    "svm_report = classification_report(y_test, y_test_pred,\n",
    "                                   target_names=[\"Parasitized\",\"Uninfected\"],\n",
    "                                   output_dict=True)\n",
    "svm_cm = confusion_matrix(y_test, y_test_pred)\n",
    "print(\"Confusion Matrix (SVM):\\n\", svm_cm)\n",
    "\n",
    "# Save single compact JSON (no new folders created)\n",
    "svm_summary = {\n",
    "    \"variant\":        \"PCA(256)+RBF SVM\",\n",
    "    \"pca_components\": PCA_DIM,\n",
    "    \"pca_explained_variance\": expl,\n",
    "    \"best_params\":    grid.best_params_,\n",
    "    \"cv_best_score\":  float(grid.best_score_),\n",
    "    \"valid_acc\":      float(acc_valid),\n",
    "    \"test_acc\":       float(acc_test),\n",
    "    \"test_report\":    svm_report,\n",
    "    \"confusion_matrix\": svm_cm.tolist()\n",
    "}\n",
    "svm_json_path = os.path.join(OUT_DIR, \"svm_pca_rbf_results.json\")\n",
    "save_json(svm_summary, svm_json_path)\n",
    "log(f\"SVM results saved → {svm_json_path}\")\n"
   ]
  },
  {
   "cell_type": "markdown",
   "id": "ba8dcdcb",
   "metadata": {},
   "source": [
    "## EC6) Best DL vs SVM (Final Comparison)\n",
    " **Best DL** (from the fixed-architecture runs), load SVM results,  \n",
    "print a tiny table + deltas, and plot a two-bar chart (Accuracy & F1)."
   ]
  },
  {
   "cell_type": "code",
   "execution_count": 17,
   "id": "b87d45a8",
   "metadata": {},
   "outputs": [
    {
     "data": {
      "text/html": [
       "<style type=\"text/css\">\n",
       "</style>\n",
       "<table id=\"T_0bd0d\">\n",
       "  <thead>\n",
       "    <tr>\n",
       "      <th class=\"blank level0\" >&nbsp;</th>\n",
       "      <th id=\"T_0bd0d_level0_col0\" class=\"col_heading level0 col0\" >Model</th>\n",
       "      <th id=\"T_0bd0d_level0_col1\" class=\"col_heading level0 col1\" >Accuracy</th>\n",
       "      <th id=\"T_0bd0d_level0_col2\" class=\"col_heading level0 col2\" >F1</th>\n",
       "    </tr>\n",
       "  </thead>\n",
       "  <tbody>\n",
       "    <tr>\n",
       "      <th id=\"T_0bd0d_level0_row0\" class=\"row_heading level0 row0\" >0</th>\n",
       "      <td id=\"T_0bd0d_row0_col0\" class=\"data row0 col0\" >Best DL (from report)</td>\n",
       "      <td id=\"T_0bd0d_row0_col1\" class=\"data row0 col1\" >0.7036</td>\n",
       "      <td id=\"T_0bd0d_row0_col2\" class=\"data row0 col2\" >0.7154</td>\n",
       "    </tr>\n",
       "    <tr>\n",
       "      <th id=\"T_0bd0d_level0_row1\" class=\"row_heading level0 row1\" >1</th>\n",
       "      <td id=\"T_0bd0d_row1_col0\" class=\"data row1 col0\" >SVM (PCA256+RBF)</td>\n",
       "      <td id=\"T_0bd0d_row1_col1\" class=\"data row1 col1\" >0.7654</td>\n",
       "      <td id=\"T_0bd0d_row1_col2\" class=\"data row1 col2\" >0.7653</td>\n",
       "    </tr>\n",
       "  </tbody>\n",
       "</table>\n"
      ],
      "text/plain": [
       "<pandas.io.formats.style.Styler at 0x273ba9bcce0>"
      ]
     },
     "metadata": {},
     "output_type": "display_data"
    },
    {
     "name": "stdout",
     "output_type": "stream",
     "text": [
      "Δ (SVM - DL):  Accuracy +0.0618 | F1 +0.0499\n"
     ]
    },
    {
     "data": {
      "image/png": "[encoded data removed]",
      "text/plain": [
       "<Figure size 800x500 with 1 Axes>"
      ]
     },
     "metadata": {},
     "output_type": "display_data"
    },
    {
     "name": "stdout",
     "output_type": "stream",
     "text": [
      "Saved plot → D:\\GMU Courses\\Sem-3\\DL\\Assignments\\Malaria_dataset\\outputs_ff\\best_dl_vs_svm.png\n"
     ]
    }
   ],
   "source": [
    "\n",
    "\n",
    "# 1) ---- Enter your BEST DL metrics here ----\n",
    "best_dl_name = \"Best DL (from report)\"\n",
    "best_dl_acc  = 0.7036   # <-- put your best DL test accuracy\n",
    "best_dl_f1   = 0.7154   # <-- put your best DL test F1\n",
    "\n",
    "# 2) ---- Load SVM results (from memory or disk) ----\n",
    "def load_svm_results():\n",
    "    if \"svm_summary\" in globals() and isinstance(svm_summary, dict):\n",
    "        return svm_summary\n",
    "    p = os.path.join(OUT_DIR, \"svm_pca_rbf_results.json\")\n",
    "    with open(p, \"r\") as f:\n",
    "        return json.load(f)\n",
    "\n",
    "svm_res = load_svm_results()\n",
    "svm_label = f\"SVM (PCA{svm_res.get('pca_components', '256')}+RBF)\"\n",
    "svm_acc   = float(svm_res[\"test_acc\"])\n",
    "\n",
    "# choose a consistent F1 (macro > weighted > average of classes)\n",
    "r = svm_res.get(\"test_report\", {})\n",
    "if \"macro avg\" in r:\n",
    "    svm_f1 = float(r[\"macro avg\"][\"f1-score\"])\n",
    "elif \"weighted avg\" in r:\n",
    "    svm_f1 = float(r[\"weighted avg\"][\"f1-score\"])\n",
    "else:\n",
    "    classes = [k for k,v in r.items() if isinstance(v, dict) and \"f1-score\" in v]\n",
    "    svm_f1 = float(np.mean([r[k][\"f1-score\"] for k in classes])) if classes else float(\"nan\")\n",
    "\n",
    "# 3) ---- Table + deltas ----\n",
    "df = pd.DataFrame([\n",
    "    {\"Model\": best_dl_name, \"Accuracy\": best_dl_acc, \"F1\": best_dl_f1},\n",
    "    {\"Model\": svm_label,    \"Accuracy\": svm_acc,     \"F1\": svm_f1},\n",
    "])\n",
    "display(df.style.format({\"Accuracy\":\"{:.4f}\", \"F1\":\"{:.4f}\"}))\n",
    "\n",
    "print(f\"Δ (SVM - DL):  Accuracy {svm_acc - best_dl_acc:+.4f} | F1 {svm_f1 - best_dl_f1:+.4f}\")\n",
    "\n",
    "# 4) ---- Bar chart (two models, Acc & F1) ----\n",
    "labels = [best_dl_name, svm_label]\n",
    "x = np.arange(2); width = 0.35\n",
    "\n",
    "fig, ax = plt.subplots(figsize=(8,5))\n",
    "rects1 = ax.bar(x - width/2, [best_dl_acc, svm_acc], width, label=\"Accuracy\")\n",
    "rects2 = ax.bar(x + width/2, [best_dl_f1, svm_f1],   width, label=\"F1 Score\")\n",
    "\n",
    "ax.set_ylabel(\"Score\"); ax.set_ylim(0, 1.0)\n",
    "ax.set_title(\"Best DL vs SVM (PCA→RBF) — Test Performance\")\n",
    "ax.set_xticks(x, labels, rotation=10, ha=\"right\"); ax.legend()\n",
    "\n",
    "for rct in list(rects1)+list(rects2):\n",
    "    h = rct.get_height()\n",
    "    ax.annotate(f\"{h:.4f}\", xy=(rct.get_x()+rct.get_width()/2, h),\n",
    "                xytext=(0,3), textcoords=\"offset points\", ha=\"center\", va=\"bottom\", fontsize=9)\n",
    "\n",
    "fig.tight_layout()\n",
    "out_png = os.path.join(OUT_DIR, \"best_dl_vs_svm.png\")\n",
    "plt.savefig(out_png, bbox_inches=\"tight\", dpi=150)\n",
    "plt.show()\n",
    "print(f\"Saved plot → {out_png}\")\n"
   ]
  },
  {
   "cell_type": "code",
   "execution_count": null,
   "id": "3cd14c41",
   "metadata": {},
   "outputs": [],
   "source": []
  }
 ],
 "metadata": {
  "kernelspec": {
   "display_name": "myenv",
   "language": "python",
   "name": "python3"
  },
  "language_info": {
   "codemirror_mode": {
    "name": "ipython",
    "version": 3
   },
   "file_extension": ".py",
   "mimetype": "text/x-python",
   "name": "python",
   "nbconvert_exporter": "python",
   "pygments_lexer": "ipython3",
   "version": "3.12.1"
  }
 },
 "nbformat": 4,
 "nbformat_minor": 5
}
